{
 "cells": [
  {
   "cell_type": "markdown",
   "metadata": {},
   "source": [
    "## Import libraries"
   ]
  },
  {
   "cell_type": "code",
   "execution_count": 1,
   "metadata": {},
   "outputs": [],
   "source": [
    "import numpy as np\n",
    "import pandas as pd\n",
    "import matplotlib.pyplot as plt\n",
    "import seaborn as sns\n",
    "\n",
    "from sklearn.linear_model import LinearRegression, Ridge, Lasso, RidgeCV, LassoCV\n",
    "from sklearn.ensemble import RandomForestRegressor\n",
    "from sklearn.preprocessing import StandardScaler\n",
    "from sklearn.model_selection import train_test_split, cross_val_score, RandomizedSearchCV\n",
    "from sklearn.compose import ColumnTransformer\n",
    "from sklearn.pipeline import Pipeline\n",
    "from sklearn.metrics import mean_squared_error, r2_score\n",
    "from sklearn.feature_extraction.text import CountVectorizer, TfidfVectorizer\n",
    "\n",
    "from joblib import dump, load\n",
    "\n",
    "# import warnings\n",
    "# warnings.filterwarnings(\"ignore\")\n",
    "\n",
    "# pd.options.display.max_columns = 999\n",
    "# pd.options.display.max_rows = 999\n",
    "# pd.options.display.max_colwidth = 100\n",
    "\n",
    "%config InlineBackend.figure_format = \"retina\"\n",
    "%matplotlib inline"
   ]
  },
  {
   "cell_type": "markdown",
   "metadata": {},
   "source": [
    "## Load TED talks data"
   ]
  },
  {
   "cell_type": "code",
   "execution_count": 2,
   "metadata": {},
   "outputs": [],
   "source": [
    "ted_talks = pd.read_csv(\"../data/ted_talks_model.csv\")"
   ]
  },
  {
   "cell_type": "code",
   "execution_count": 3,
   "metadata": {},
   "outputs": [
    {
     "data": {
      "text/html": [
       "<div>\n",
       "<style scoped>\n",
       "    .dataframe tbody tr th:only-of-type {\n",
       "        vertical-align: middle;\n",
       "    }\n",
       "\n",
       "    .dataframe tbody tr th {\n",
       "        vertical-align: top;\n",
       "    }\n",
       "\n",
       "    .dataframe thead th {\n",
       "        text-align: right;\n",
       "    }\n",
       "</style>\n",
       "<table border=\"1\" class=\"dataframe\">\n",
       "  <thead>\n",
       "    <tr style=\"text-align: right;\">\n",
       "      <th></th>\n",
       "      <th>num_comments</th>\n",
       "      <th>is_featured</th>\n",
       "      <th>num_tags</th>\n",
       "      <th>num_resources</th>\n",
       "      <th>num_actions</th>\n",
       "      <th>num_recommend</th>\n",
       "      <th>has_citations</th>\n",
       "      <th>num_languages</th>\n",
       "      <th>duration_min</th>\n",
       "      <th>num_related</th>\n",
       "      <th>...</th>\n",
       "      <th>action_organize</th>\n",
       "      <th>action_participate</th>\n",
       "      <th>action_petition</th>\n",
       "      <th>action_share</th>\n",
       "      <th>action_sign_up</th>\n",
       "      <th>action_subscribe</th>\n",
       "      <th>action_visit</th>\n",
       "      <th>action_volunteer</th>\n",
       "      <th>p_title</th>\n",
       "      <th>p_transcript</th>\n",
       "    </tr>\n",
       "  </thead>\n",
       "  <tbody>\n",
       "    <tr>\n",
       "      <th>0</th>\n",
       "      <td>6</td>\n",
       "      <td>1</td>\n",
       "      <td>6</td>\n",
       "      <td>0</td>\n",
       "      <td>0</td>\n",
       "      <td>0</td>\n",
       "      <td>1</td>\n",
       "      <td>8</td>\n",
       "      <td>14.67</td>\n",
       "      <td>6</td>\n",
       "      <td>...</td>\n",
       "      <td>0</td>\n",
       "      <td>0</td>\n",
       "      <td>0</td>\n",
       "      <td>0</td>\n",
       "      <td>0</td>\n",
       "      <td>0</td>\n",
       "      <td>0</td>\n",
       "      <td>0</td>\n",
       "      <td>food ancestor love</td>\n",
       "      <td>last year wa living indigenous family india on...</td>\n",
       "    </tr>\n",
       "    <tr>\n",
       "      <th>1</th>\n",
       "      <td>11</td>\n",
       "      <td>1</td>\n",
       "      <td>7</td>\n",
       "      <td>0</td>\n",
       "      <td>2</td>\n",
       "      <td>4</td>\n",
       "      <td>0</td>\n",
       "      <td>7</td>\n",
       "      <td>11.23</td>\n",
       "      <td>6</td>\n",
       "      <td>...</td>\n",
       "      <td>0</td>\n",
       "      <td>1</td>\n",
       "      <td>0</td>\n",
       "      <td>0</td>\n",
       "      <td>0</td>\n",
       "      <td>0</td>\n",
       "      <td>0</td>\n",
       "      <td>0</td>\n",
       "      <td>stop bystander life</td>\n",
       "      <td>able navigate extraordinary gift nothing like ...</td>\n",
       "    </tr>\n",
       "    <tr>\n",
       "      <th>2</th>\n",
       "      <td>16</td>\n",
       "      <td>1</td>\n",
       "      <td>7</td>\n",
       "      <td>0</td>\n",
       "      <td>1</td>\n",
       "      <td>0</td>\n",
       "      <td>0</td>\n",
       "      <td>10</td>\n",
       "      <td>14.18</td>\n",
       "      <td>6</td>\n",
       "      <td>...</td>\n",
       "      <td>0</td>\n",
       "      <td>0</td>\n",
       "      <td>0</td>\n",
       "      <td>0</td>\n",
       "      <td>0</td>\n",
       "      <td>0</td>\n",
       "      <td>0</td>\n",
       "      <td>0</td>\n",
       "      <td>woman lead u freedom justice peace</td>\n",
       "      <td>wa first woman president african nation believ...</td>\n",
       "    </tr>\n",
       "    <tr>\n",
       "      <th>3</th>\n",
       "      <td>16</td>\n",
       "      <td>1</td>\n",
       "      <td>5</td>\n",
       "      <td>0</td>\n",
       "      <td>0</td>\n",
       "      <td>2</td>\n",
       "      <td>1</td>\n",
       "      <td>10</td>\n",
       "      <td>14.00</td>\n",
       "      <td>6</td>\n",
       "      <td>...</td>\n",
       "      <td>0</td>\n",
       "      <td>0</td>\n",
       "      <td>0</td>\n",
       "      <td>0</td>\n",
       "      <td>0</td>\n",
       "      <td>0</td>\n",
       "      <td>0</td>\n",
       "      <td>0</td>\n",
       "      <td>beauty complexity finding common ground</td>\n",
       "      <td>story started several year ago wife got compla...</td>\n",
       "    </tr>\n",
       "    <tr>\n",
       "      <th>4</th>\n",
       "      <td>26</td>\n",
       "      <td>1</td>\n",
       "      <td>10</td>\n",
       "      <td>0</td>\n",
       "      <td>2</td>\n",
       "      <td>4</td>\n",
       "      <td>1</td>\n",
       "      <td>4</td>\n",
       "      <td>13.18</td>\n",
       "      <td>6</td>\n",
       "      <td>...</td>\n",
       "      <td>0</td>\n",
       "      <td>0</td>\n",
       "      <td>0</td>\n",
       "      <td>0</td>\n",
       "      <td>0</td>\n",
       "      <td>0</td>\n",
       "      <td>0</td>\n",
       "      <td>0</td>\n",
       "      <td>dolly parton led epiphany</td>\n",
       "      <td>want tell search purpose journalist dolly part...</td>\n",
       "    </tr>\n",
       "  </tbody>\n",
       "</table>\n",
       "<p>5 rows × 492 columns</p>\n",
       "</div>"
      ],
      "text/plain": [
       "   num_comments  is_featured  num_tags  num_resources  num_actions  \\\n",
       "0             6            1         6              0            0   \n",
       "1            11            1         7              0            2   \n",
       "2            16            1         7              0            1   \n",
       "3            16            1         5              0            0   \n",
       "4            26            1        10              0            2   \n",
       "\n",
       "   num_recommend  has_citations  num_languages  duration_min  num_related  \\\n",
       "0              0              1              8         14.67            6   \n",
       "1              4              0              7         11.23            6   \n",
       "2              0              0             10         14.18            6   \n",
       "3              2              1             10         14.00            6   \n",
       "4              4              1              4         13.18            6   \n",
       "\n",
       "   ...  action_organize  action_participate  action_petition  action_share  \\\n",
       "0  ...                0                   0                0             0   \n",
       "1  ...                0                   1                0             0   \n",
       "2  ...                0                   0                0             0   \n",
       "3  ...                0                   0                0             0   \n",
       "4  ...                0                   0                0             0   \n",
       "\n",
       "   action_sign_up  action_subscribe  action_visit  action_volunteer  \\\n",
       "0               0                 0             0                 0   \n",
       "1               0                 0             0                 0   \n",
       "2               0                 0             0                 0   \n",
       "3               0                 0             0                 0   \n",
       "4               0                 0             0                 0   \n",
       "\n",
       "                                   p_title  \\\n",
       "0                       food ancestor love   \n",
       "1                      stop bystander life   \n",
       "2       woman lead u freedom justice peace   \n",
       "3  beauty complexity finding common ground   \n",
       "4                dolly parton led epiphany   \n",
       "\n",
       "                                        p_transcript  \n",
       "0  last year wa living indigenous family india on...  \n",
       "1  able navigate extraordinary gift nothing like ...  \n",
       "2  wa first woman president african nation believ...  \n",
       "3  story started several year ago wife got compla...  \n",
       "4  want tell search purpose journalist dolly part...  \n",
       "\n",
       "[5 rows x 492 columns]"
      ]
     },
     "metadata": {},
     "output_type": "display_data"
    },
    {
     "data": {
      "text/plain": [
       "(3963, 492)"
      ]
     },
     "execution_count": 3,
     "metadata": {},
     "output_type": "execute_result"
    }
   ],
   "source": [
    "# observe top 5 rows of df\n",
    "display(ted_talks.head())\n",
    "\n",
    "# view shape of df\n",
    "ted_talks.shape"
   ]
  },
  {
   "cell_type": "markdown",
   "metadata": {},
   "source": [
    "## 6.1 Model Preparation"
   ]
  },
  {
   "cell_type": "code",
   "execution_count": 4,
   "metadata": {},
   "outputs": [],
   "source": [
    "# define predictors and target variable\n",
    "features = [col for col in ted_talks.columns if col != \"avg_m_views\"]\n",
    "X = ted_talks[features]\n",
    "y = ted_talks[\"avg_m_views\"]"
   ]
  },
  {
   "cell_type": "code",
   "execution_count": 5,
   "metadata": {},
   "outputs": [],
   "source": [
    "# train/test split\n",
    "X_train, X_test, y_train, y_test = train_test_split(X, y)"
   ]
  },
  {
   "cell_type": "markdown",
   "metadata": {},
   "source": [
    "## 6.2 Baseline Model"
   ]
  },
  {
   "cell_type": "code",
   "execution_count": 6,
   "metadata": {},
   "outputs": [
    {
     "name": "stdout",
     "output_type": "stream",
     "text": [
      "Baseline prediction: 76736.59 average monthly views\n",
      "Baseline score (RMSE): 122723.0166 average monthly views\n",
      "Baseline score (R2): -0.0\n"
     ]
    }
   ],
   "source": [
    "baseline_preds = y.mean()\n",
    "print(f\"Baseline prediction: {round(baseline_preds,2)} average monthly views\")\n",
    "\n",
    "ted_talks[\"baseline_preds\"] = ted_talks[\"avg_m_views\"].mean()\n",
    "\n",
    "# rmse             \n",
    "baseline_rmse = np.sqrt(mean_squared_error(ted_talks[\"avg_m_views\"], ted_talks[\"baseline_preds\"]))\n",
    "print(f\"Baseline score (RMSE): {round(baseline_rmse,4)} average monthly views\")\n",
    "\n",
    "# r2\n",
    "baseline_r2 = r2_score(ted_talks[\"avg_m_views\"], ted_talks[\"baseline_preds\"])\n",
    "print(f\"Baseline score (R2): {round(baseline_r2,4)}\")\n",
    "\n",
    "ted_talks.drop(\"baseline_preds\", axis=1, inplace=True)"
   ]
  },
  {
   "cell_type": "markdown",
   "metadata": {},
   "source": [
    "## 6.3 Modelling"
   ]
  },
  {
   "cell_type": "code",
   "execution_count": 7,
   "metadata": {},
   "outputs": [],
   "source": [
    "# list of stopwords to remove\n",
    "title_stopwords = [\"could\", \"like\"]\n",
    "transcript_stopwords = [\"thank\", \"much\", \"applause\", \"laughter\", \"like\", \"wa\", \"da\", \n",
    "                        \"one\", \"two\", \"three\", \"four\", \"five\", \"six\", \"seven\", \"eight\", \"nine\"]"
   ]
  },
  {
   "cell_type": "code",
   "execution_count": 8,
   "metadata": {},
   "outputs": [],
   "source": [
    "# function to optimize model selection process\n",
    "\n",
    "def run_model(vectorizer, algorithm, param_grid, \n",
    "              X_train=X_train, X_test=X_test, \n",
    "              y_train=y_train, y_test=y_test):\n",
    "\n",
    "    if vectorizer == \"cvec\":\n",
    "        vec_title = CountVectorizer()\n",
    "        vec_transcript = CountVectorizer()\n",
    "    \n",
    "    if vectorizer == \"tvec\":\n",
    "        vec_title = TfidfVectorizer()\n",
    "        vec_transcript = TfidfVectorizer()\n",
    "\n",
    "    ss = StandardScaler()\n",
    "\n",
    "    # establish column transformer\n",
    "    col_transformer = ColumnTransformer(transformers=\n",
    "                       [(\"vec_title\", vec_title, \"p_title\"), \n",
    "                        (\"vec_transcript\", vec_transcript, \"p_transcript\"), \n",
    "                       (\"ss\", ss, \n",
    "                        [c for c in X_train.columns \n",
    "                        if c != \"p_title\" and c != \"p_transcript\"])])\n",
    "\n",
    "    # establish pipeline\n",
    "    pred_pipeline = Pipeline(steps=\n",
    "                    [(\"ct\", col_transformer), \n",
    "                     algorithm])\n",
    "\n",
    "    # establish search params\n",
    "    param_grid = param_grid\n",
    "\n",
    "    # contruct randomised search\n",
    "    algo_vec_randomsearch = RandomizedSearchCV(estimator = pred_pipeline, \n",
    "                                              param_distributions = param_grid, \n",
    "                                              cv = 5, \n",
    "                                              verbose = 50, \n",
    "                                              n_jobs = -1)\n",
    "    \n",
    "    # fit model with train set\n",
    "    algo_vec_randomsearch.fit(X_train, y_train)\n",
    "    \n",
    "    # obtain best score\n",
    "    algo_vec_best_score = algo_vec_randomsearch.best_score_\n",
    "\n",
    "    # # make predictions on train set\n",
    "    algo_vec_train_pred = algo_vec_randomsearch.predict(X_train)\n",
    "    \n",
    "    # score on train set\n",
    "    algo_vec_train_r2 = algo_vec_randomsearch.score(X_train, y_train)\n",
    "    algo_vec_train_rmse = np.sqrt(mean_squared_error(y_train, algo_vec_train_pred))\n",
    "\n",
    "    # make predictions on test set\n",
    "    algo_vec_test_pred = algo_vec_randomsearch.predict(X_test)\n",
    "\n",
    "    # score on test set\n",
    "    algo_vec_test_r2 = algo_vec_randomsearch.score(X_test, y_test)\n",
    "    algo_vec_test_rmse = np.sqrt(mean_squared_error(y_test, algo_vec_test_pred))\n",
    "\n",
    "    # model best params\n",
    "    algo_vec_best_estimator = algo_vec_randomsearch.best_estimator_\n",
    "    \n",
    "    # put results in a df and display scores\n",
    "    algo_vec_scores = pd.DataFrame({\"best_score\": round(algo_vec_best_score,4),\n",
    "                                    \"train_score_r2\": round(algo_vec_train_r2,4),\n",
    "                                    \"train_score_rmse\": round(algo_vec_train_rmse,4),\n",
    "                                    \"test_score_r2\": round(algo_vec_test_r2,4),\n",
    "                                    \"test_score_rmse\": round(algo_vec_test_rmse,4)}, index=[0])\n",
    "\n",
    "    return algo_vec_best_estimator, algo_vec_scores"
   ]
  },
  {
   "cell_type": "markdown",
   "metadata": {},
   "source": [
    "### Multi-Linear Regression with CountVectorizer"
   ]
  },
  {
   "cell_type": "code",
   "execution_count": 9,
   "metadata": {
    "collapsed": true
   },
   "outputs": [
    {
     "name": "stdout",
     "output_type": "stream",
     "text": [
      "Fitting 5 folds for each of 10 candidates, totalling 50 fits\n",
      "[Parallel(n_jobs=-1)]: Using backend LokyBackend with 8 concurrent workers.\n",
      "[Parallel(n_jobs=-1)]: Done   1 tasks      | elapsed:   45.9s\n",
      "[Parallel(n_jobs=-1)]: Done   2 tasks      | elapsed:   47.0s\n",
      "[Parallel(n_jobs=-1)]: Done   3 tasks      | elapsed:   47.4s\n",
      "[Parallel(n_jobs=-1)]: Done   4 tasks      | elapsed:   48.1s\n",
      "[Parallel(n_jobs=-1)]: Done   5 tasks      | elapsed:   50.9s\n",
      "[Parallel(n_jobs=-1)]: Done   6 tasks      | elapsed:   51.8s\n",
      "[Parallel(n_jobs=-1)]: Done   7 tasks      | elapsed:   51.8s\n",
      "[Parallel(n_jobs=-1)]: Done   8 tasks      | elapsed:   53.1s\n",
      "[Parallel(n_jobs=-1)]: Done   9 tasks      | elapsed:  1.2min\n",
      "[Parallel(n_jobs=-1)]: Done  10 tasks      | elapsed:  1.2min\n",
      "[Parallel(n_jobs=-1)]: Done  11 tasks      | elapsed:  1.5min\n",
      "[Parallel(n_jobs=-1)]: Done  12 tasks      | elapsed:  1.5min\n",
      "[Parallel(n_jobs=-1)]: Done  13 tasks      | elapsed:  1.5min\n",
      "[Parallel(n_jobs=-1)]: Done  14 tasks      | elapsed:  1.5min\n",
      "[Parallel(n_jobs=-1)]: Done  15 tasks      | elapsed:  1.6min\n",
      "[Parallel(n_jobs=-1)]: Done  16 tasks      | elapsed:  2.1min\n",
      "[Parallel(n_jobs=-1)]: Done  17 tasks      | elapsed:  2.7min\n",
      "[Parallel(n_jobs=-1)]: Done  18 tasks      | elapsed:  3.1min\n",
      "[Parallel(n_jobs=-1)]: Done  19 tasks      | elapsed:  3.5min\n",
      "[Parallel(n_jobs=-1)]: Done  20 tasks      | elapsed:  3.6min\n",
      "[Parallel(n_jobs=-1)]: Done  21 tasks      | elapsed:  3.7min\n",
      "[Parallel(n_jobs=-1)]: Done  22 tasks      | elapsed:  4.0min\n",
      "[Parallel(n_jobs=-1)]: Done  23 tasks      | elapsed:  4.3min\n",
      "[Parallel(n_jobs=-1)]: Done  24 tasks      | elapsed:  4.5min\n",
      "[Parallel(n_jobs=-1)]: Done  25 tasks      | elapsed:  4.6min\n",
      "[Parallel(n_jobs=-1)]: Done  26 tasks      | elapsed:  5.5min\n",
      "[Parallel(n_jobs=-1)]: Done  27 tasks      | elapsed:  8.4min\n",
      "[Parallel(n_jobs=-1)]: Done  28 tasks      | elapsed:  8.6min\n",
      "[Parallel(n_jobs=-1)]: Done  29 tasks      | elapsed:  9.4min\n",
      "[Parallel(n_jobs=-1)]: Done  30 tasks      | elapsed: 10.0min\n",
      "[Parallel(n_jobs=-1)]: Done  31 tasks      | elapsed: 10.7min\n",
      "[Parallel(n_jobs=-1)]: Done  32 tasks      | elapsed: 10.9min\n",
      "[Parallel(n_jobs=-1)]: Done  33 tasks      | elapsed: 11.4min\n",
      "[Parallel(n_jobs=-1)]: Done  34 tasks      | elapsed: 11.5min\n",
      "[Parallel(n_jobs=-1)]: Done  35 tasks      | elapsed: 11.6min\n",
      "[Parallel(n_jobs=-1)]: Done  37 out of  50 | elapsed: 12.3min remaining:  4.3min\n",
      "[Parallel(n_jobs=-1)]: Done  39 out of  50 | elapsed: 12.8min remaining:  3.6min\n",
      "[Parallel(n_jobs=-1)]: Done  41 out of  50 | elapsed: 13.0min remaining:  2.9min\n",
      "[Parallel(n_jobs=-1)]: Done  43 out of  50 | elapsed: 13.5min remaining:  2.2min\n",
      "[Parallel(n_jobs=-1)]: Done  45 out of  50 | elapsed: 13.9min remaining:  1.5min\n",
      "[Parallel(n_jobs=-1)]: Done  47 out of  50 | elapsed: 15.1min remaining:   57.9s\n",
      "[Parallel(n_jobs=-1)]: Done  50 out of  50 | elapsed: 15.2min finished\n"
     ]
    }
   ],
   "source": [
    "mlr_cvec_param_grid = {\n",
    "    \"ct__vec_title__stop_words\": [title_stopwords],\n",
    "    \"ct__vec_title__max_features\": [300, 500, 750],\n",
    "    \"ct__vec_title__ngram_range\": [(1,2),(2,2),(2,3)],\n",
    "    \"ct__vec_transcript__stop_words\": [transcript_stopwords],\n",
    "    \"ct__vec_transcript__max_features\": [300, 500, 750],\n",
    "    \"ct__vec_transcript__ngram_range\": [(1,2),(2,2),(2,3)],\n",
    "    \"ct__vec_transcript__max_df\": [0.9]\n",
    "}\n",
    "\n",
    "mlr_cvec_est, mlr_cvec_scores = run_model(vectorizer = \"cvec\",\n",
    "                                          algorithm = (\"lr\", LinearRegression()),\n",
    "                                          param_grid = mlr_cvec_param_grid)"
   ]
  },
  {
   "cell_type": "code",
   "execution_count": 33,
   "metadata": {},
   "outputs": [
    {
     "name": "stdout",
     "output_type": "stream",
     "text": [
      "Multi Linear Regression with CountVectorizer:\n"
     ]
    },
    {
     "data": {
      "text/html": [
       "<div>\n",
       "<style scoped>\n",
       "    .dataframe tbody tr th:only-of-type {\n",
       "        vertical-align: middle;\n",
       "    }\n",
       "\n",
       "    .dataframe tbody tr th {\n",
       "        vertical-align: top;\n",
       "    }\n",
       "\n",
       "    .dataframe thead th {\n",
       "        text-align: right;\n",
       "    }\n",
       "</style>\n",
       "<table border=\"1\" class=\"dataframe\">\n",
       "  <thead>\n",
       "    <tr style=\"text-align: right;\">\n",
       "      <th></th>\n",
       "      <th>best_score</th>\n",
       "      <th>train_score_r2</th>\n",
       "      <th>train_score_rmse</th>\n",
       "      <th>test_score_r2</th>\n",
       "      <th>test_score_rmse</th>\n",
       "    </tr>\n",
       "  </thead>\n",
       "  <tbody>\n",
       "    <tr>\n",
       "      <th>mlr_cvec</th>\n",
       "      <td>-1.5958</td>\n",
       "      <td>0.6885</td>\n",
       "      <td>67620.3163</td>\n",
       "      <td>-0.4772</td>\n",
       "      <td>154583.1807</td>\n",
       "    </tr>\n",
       "  </tbody>\n",
       "</table>\n",
       "</div>"
      ],
      "text/plain": [
       "          best_score  train_score_r2  train_score_rmse  test_score_r2  \\\n",
       "mlr_cvec     -1.5958          0.6885        67620.3163        -0.4772   \n",
       "\n",
       "          test_score_rmse  \n",
       "mlr_cvec      154583.1807  "
      ]
     },
     "metadata": {},
     "output_type": "display_data"
    }
   ],
   "source": [
    "print(\"Multi Linear Regression with CountVectorizer:\")\n",
    "mlr_cvec_scores.rename(index={0: \"mlr_cvec\"}, inplace=True)\n",
    "display(mlr_cvec_scores)"
   ]
  },
  {
   "cell_type": "markdown",
   "metadata": {},
   "source": [
    "### Multi-Linear Regression with TfidfVectorizer"
   ]
  },
  {
   "cell_type": "code",
   "execution_count": 11,
   "metadata": {
    "collapsed": true
   },
   "outputs": [
    {
     "name": "stdout",
     "output_type": "stream",
     "text": [
      "Fitting 5 folds for each of 10 candidates, totalling 50 fits\n",
      "[Parallel(n_jobs=-1)]: Using backend LokyBackend with 8 concurrent workers.\n",
      "[Parallel(n_jobs=-1)]: Done   1 tasks      | elapsed:   30.8s\n",
      "[Parallel(n_jobs=-1)]: Done   2 tasks      | elapsed:   32.3s\n",
      "[Parallel(n_jobs=-1)]: Done   3 tasks      | elapsed:   32.3s\n",
      "[Parallel(n_jobs=-1)]: Done   4 tasks      | elapsed:   51.5s\n",
      "[Parallel(n_jobs=-1)]: Done   5 tasks      | elapsed:   54.5s\n",
      "[Parallel(n_jobs=-1)]: Done   6 tasks      | elapsed:   56.8s\n",
      "[Parallel(n_jobs=-1)]: Done   7 tasks      | elapsed:   56.8s\n",
      "[Parallel(n_jobs=-1)]: Done   8 tasks      | elapsed:   58.4s\n",
      "[Parallel(n_jobs=-1)]: Done   9 tasks      | elapsed:  1.1min\n",
      "[Parallel(n_jobs=-1)]: Done  10 tasks      | elapsed:  1.1min\n",
      "[Parallel(n_jobs=-1)]: Done  11 tasks      | elapsed:  1.1min\n",
      "[Parallel(n_jobs=-1)]: Done  12 tasks      | elapsed:  1.4min\n",
      "[Parallel(n_jobs=-1)]: Done  13 tasks      | elapsed:  1.4min\n",
      "[Parallel(n_jobs=-1)]: Done  14 tasks      | elapsed:  1.5min\n",
      "[Parallel(n_jobs=-1)]: Done  15 tasks      | elapsed:  1.5min\n",
      "[Parallel(n_jobs=-1)]: Done  16 tasks      | elapsed:  1.5min\n",
      "[Parallel(n_jobs=-1)]: Done  17 tasks      | elapsed:  1.5min\n",
      "[Parallel(n_jobs=-1)]: Done  18 tasks      | elapsed:  1.6min\n",
      "[Parallel(n_jobs=-1)]: Done  19 tasks      | elapsed:  1.6min\n",
      "[Parallel(n_jobs=-1)]: Done  20 tasks      | elapsed:  1.7min\n",
      "[Parallel(n_jobs=-1)]: Done  21 tasks      | elapsed:  1.9min\n",
      "[Parallel(n_jobs=-1)]: Done  22 tasks      | elapsed:  1.9min\n",
      "[Parallel(n_jobs=-1)]: Done  23 tasks      | elapsed:  2.0min\n",
      "[Parallel(n_jobs=-1)]: Done  24 tasks      | elapsed:  2.0min\n",
      "[Parallel(n_jobs=-1)]: Done  25 tasks      | elapsed:  2.0min\n",
      "[Parallel(n_jobs=-1)]: Done  26 tasks      | elapsed:  2.3min\n",
      "[Parallel(n_jobs=-1)]: Done  27 tasks      | elapsed:  2.3min\n",
      "[Parallel(n_jobs=-1)]: Done  28 tasks      | elapsed:  2.4min\n",
      "[Parallel(n_jobs=-1)]: Done  29 tasks      | elapsed:  2.4min\n",
      "[Parallel(n_jobs=-1)]: Done  30 tasks      | elapsed:  2.4min\n",
      "[Parallel(n_jobs=-1)]: Done  31 tasks      | elapsed:  2.5min\n",
      "[Parallel(n_jobs=-1)]: Done  32 tasks      | elapsed:  2.6min\n",
      "[Parallel(n_jobs=-1)]: Done  33 tasks      | elapsed:  2.7min\n",
      "[Parallel(n_jobs=-1)]: Done  34 tasks      | elapsed:  2.7min\n",
      "[Parallel(n_jobs=-1)]: Done  35 tasks      | elapsed:  2.7min\n",
      "[Parallel(n_jobs=-1)]: Done  37 out of  50 | elapsed:  2.9min remaining:  1.0min\n",
      "[Parallel(n_jobs=-1)]: Done  39 out of  50 | elapsed:  3.0min remaining:   50.1s\n",
      "[Parallel(n_jobs=-1)]: Done  41 out of  50 | elapsed:  3.4min remaining:   44.7s\n",
      "[Parallel(n_jobs=-1)]: Done  43 out of  50 | elapsed:  3.4min remaining:   33.5s\n",
      "[Parallel(n_jobs=-1)]: Done  45 out of  50 | elapsed:  3.6min remaining:   23.7s\n",
      "[Parallel(n_jobs=-1)]: Done  47 out of  50 | elapsed:  3.8min remaining:   14.6s\n",
      "[Parallel(n_jobs=-1)]: Done  50 out of  50 | elapsed:  4.1min finished\n"
     ]
    }
   ],
   "source": [
    "mlr_tvec_param_grid = {\n",
    "    \"ct__vec_title__stop_words\": [title_stopwords],\n",
    "    \"ct__vec_title__max_features\": [300, 500, 750],\n",
    "    \"ct__vec_title__ngram_range\": [(1,2),(2,2),(2,3)],\n",
    "    \"ct__vec_transcript__stop_words\": [transcript_stopwords],\n",
    "    \"ct__vec_transcript__max_features\": [300, 500, 750],\n",
    "    \"ct__vec_transcript__ngram_range\": [(1,2),(2,2),(2,3)],\n",
    "    \"ct__vec_transcript__max_df\": [0.9]\n",
    "}\n",
    "\n",
    "mlr_tvec_est, mlr_tvec_scores = run_model(vectorizer = \"tvec\",\n",
    "                                          algorithm = (\"lr\", LinearRegression()),\n",
    "                                          param_grid = mlr_tvec_param_grid)"
   ]
  },
  {
   "cell_type": "code",
   "execution_count": 34,
   "metadata": {},
   "outputs": [
    {
     "name": "stdout",
     "output_type": "stream",
     "text": [
      "Multi Linear Regression with TfidfVectorizer:\n"
     ]
    },
    {
     "data": {
      "text/html": [
       "<div>\n",
       "<style scoped>\n",
       "    .dataframe tbody tr th:only-of-type {\n",
       "        vertical-align: middle;\n",
       "    }\n",
       "\n",
       "    .dataframe tbody tr th {\n",
       "        vertical-align: top;\n",
       "    }\n",
       "\n",
       "    .dataframe thead th {\n",
       "        text-align: right;\n",
       "    }\n",
       "</style>\n",
       "<table border=\"1\" class=\"dataframe\">\n",
       "  <thead>\n",
       "    <tr style=\"text-align: right;\">\n",
       "      <th></th>\n",
       "      <th>best_score</th>\n",
       "      <th>train_score_r2</th>\n",
       "      <th>train_score_rmse</th>\n",
       "      <th>test_score_r2</th>\n",
       "      <th>test_score_rmse</th>\n",
       "    </tr>\n",
       "  </thead>\n",
       "  <tbody>\n",
       "    <tr>\n",
       "      <th>mlr_tvec</th>\n",
       "      <td>-1.3865</td>\n",
       "      <td>0.7324</td>\n",
       "      <td>62672.1254</td>\n",
       "      <td>-0.4823</td>\n",
       "      <td>154848.85</td>\n",
       "    </tr>\n",
       "  </tbody>\n",
       "</table>\n",
       "</div>"
      ],
      "text/plain": [
       "          best_score  train_score_r2  train_score_rmse  test_score_r2  \\\n",
       "mlr_tvec     -1.3865          0.7324        62672.1254        -0.4823   \n",
       "\n",
       "          test_score_rmse  \n",
       "mlr_tvec        154848.85  "
      ]
     },
     "metadata": {},
     "output_type": "display_data"
    }
   ],
   "source": [
    "print(\"Multi Linear Regression with TfidfVectorizer:\")\n",
    "mlr_tvec_scores.rename(index={0: \"mlr_tvec\"}, inplace=True)\n",
    "display(mlr_tvec_scores)"
   ]
  },
  {
   "cell_type": "markdown",
   "metadata": {},
   "source": [
    "### Ridge Regression with CountVectorizer"
   ]
  },
  {
   "cell_type": "code",
   "execution_count": 13,
   "metadata": {
    "collapsed": true
   },
   "outputs": [
    {
     "name": "stdout",
     "output_type": "stream",
     "text": [
      "Fitting 5 folds for each of 10 candidates, totalling 50 fits\n",
      "[Parallel(n_jobs=-1)]: Using backend LokyBackend with 8 concurrent workers.\n",
      "[Parallel(n_jobs=-1)]: Done   1 tasks      | elapsed:   21.1s\n",
      "[Parallel(n_jobs=-1)]: Done   2 tasks      | elapsed:   21.7s\n",
      "[Parallel(n_jobs=-1)]: Done   3 tasks      | elapsed:   21.8s\n",
      "[Parallel(n_jobs=-1)]: Done   4 tasks      | elapsed:   43.7s\n",
      "[Parallel(n_jobs=-1)]: Done   5 tasks      | elapsed:   44.2s\n",
      "[Parallel(n_jobs=-1)]: Done   6 tasks      | elapsed:   45.8s\n",
      "[Parallel(n_jobs=-1)]: Done   7 tasks      | elapsed:   46.2s\n",
      "[Parallel(n_jobs=-1)]: Done   8 tasks      | elapsed:   46.3s\n",
      "[Parallel(n_jobs=-1)]: Done   9 tasks      | elapsed:   48.6s\n",
      "[Parallel(n_jobs=-1)]: Done  10 tasks      | elapsed:   50.7s\n",
      "[Parallel(n_jobs=-1)]: Done  11 tasks      | elapsed:  1.2min\n",
      "[Parallel(n_jobs=-1)]: Done  12 tasks      | elapsed:  1.2min\n",
      "[Parallel(n_jobs=-1)]: Done  13 tasks      | elapsed:  1.2min\n",
      "[Parallel(n_jobs=-1)]: Done  14 tasks      | elapsed:  1.3min\n",
      "[Parallel(n_jobs=-1)]: Done  15 tasks      | elapsed:  1.4min\n",
      "[Parallel(n_jobs=-1)]: Done  16 tasks      | elapsed:  1.4min\n",
      "[Parallel(n_jobs=-1)]: Done  17 tasks      | elapsed:  1.5min\n",
      "[Parallel(n_jobs=-1)]: Done  18 tasks      | elapsed:  1.5min\n",
      "[Parallel(n_jobs=-1)]: Done  19 tasks      | elapsed:  1.5min\n",
      "[Parallel(n_jobs=-1)]: Done  20 tasks      | elapsed:  1.6min\n",
      "[Parallel(n_jobs=-1)]: Done  21 tasks      | elapsed:  1.7min\n",
      "[Parallel(n_jobs=-1)]: Done  22 tasks      | elapsed:  1.7min\n",
      "[Parallel(n_jobs=-1)]: Done  23 tasks      | elapsed:  1.8min\n",
      "[Parallel(n_jobs=-1)]: Done  24 tasks      | elapsed:  1.9min\n",
      "[Parallel(n_jobs=-1)]: Done  25 tasks      | elapsed:  1.9min\n",
      "[Parallel(n_jobs=-1)]: Done  26 tasks      | elapsed:  1.9min\n",
      "[Parallel(n_jobs=-1)]: Done  27 tasks      | elapsed:  1.9min\n",
      "[Parallel(n_jobs=-1)]: Done  28 tasks      | elapsed:  2.0min\n",
      "[Parallel(n_jobs=-1)]: Done  29 tasks      | elapsed:  2.1min\n",
      "[Parallel(n_jobs=-1)]: Done  30 tasks      | elapsed:  2.1min\n",
      "[Parallel(n_jobs=-1)]: Done  31 tasks      | elapsed:  2.1min\n",
      "[Parallel(n_jobs=-1)]: Done  32 tasks      | elapsed:  2.2min\n",
      "[Parallel(n_jobs=-1)]: Done  33 tasks      | elapsed:  2.2min\n",
      "[Parallel(n_jobs=-1)]: Done  34 tasks      | elapsed:  2.3min\n",
      "[Parallel(n_jobs=-1)]: Done  35 tasks      | elapsed:  2.3min\n",
      "[Parallel(n_jobs=-1)]: Done  37 out of  50 | elapsed:  3.0min remaining:  1.0min\n",
      "[Parallel(n_jobs=-1)]: Done  39 out of  50 | elapsed:  3.0min remaining:   50.3s\n",
      "[Parallel(n_jobs=-1)]: Done  41 out of  50 | elapsed:  3.1min remaining:   40.2s\n",
      "[Parallel(n_jobs=-1)]: Done  43 out of  50 | elapsed:  3.2min remaining:   30.9s\n",
      "[Parallel(n_jobs=-1)]: Done  45 out of  50 | elapsed:  3.3min remaining:   22.1s\n",
      "[Parallel(n_jobs=-1)]: Done  47 out of  50 | elapsed:  3.4min remaining:   12.9s\n",
      "[Parallel(n_jobs=-1)]: Done  50 out of  50 | elapsed:  3.5min finished\n"
     ]
    }
   ],
   "source": [
    "ridge_cvec_param_grid = {\n",
    "    \"ct__vec_title__stop_words\": [title_stopwords],\n",
    "    \"ct__vec_title__max_features\": [300, 500, 750],\n",
    "    \"ct__vec_title__ngram_range\": [(1,2),(2,2),(2,3)],\n",
    "    \"ct__vec_transcript__stop_words\": [transcript_stopwords],\n",
    "    \"ct__vec_transcript__max_features\": [300, 500, 750],\n",
    "    \"ct__vec_transcript__ngram_range\": [(1,2),(2,2),(2,3)],\n",
    "    \"ct__vec_transcript__max_df\": [0.9],\n",
    "    \"ridge__alpha\": np.logspace(0, 5, 200)\n",
    "}\n",
    "\n",
    "ridge_cvec_est, ridge_cvec_scores = run_model(vectorizer = \"cvec\",\n",
    "                                              algorithm = (\"ridge\", Ridge()),\n",
    "                                              param_grid = ridge_cvec_param_grid)"
   ]
  },
  {
   "cell_type": "code",
   "execution_count": 35,
   "metadata": {},
   "outputs": [
    {
     "name": "stdout",
     "output_type": "stream",
     "text": [
      "Ridge Regression with CountVectorizer:\n"
     ]
    },
    {
     "data": {
      "text/html": [
       "<div>\n",
       "<style scoped>\n",
       "    .dataframe tbody tr th:only-of-type {\n",
       "        vertical-align: middle;\n",
       "    }\n",
       "\n",
       "    .dataframe tbody tr th {\n",
       "        vertical-align: top;\n",
       "    }\n",
       "\n",
       "    .dataframe thead th {\n",
       "        text-align: right;\n",
       "    }\n",
       "</style>\n",
       "<table border=\"1\" class=\"dataframe\">\n",
       "  <thead>\n",
       "    <tr style=\"text-align: right;\">\n",
       "      <th></th>\n",
       "      <th>best_score</th>\n",
       "      <th>train_score_r2</th>\n",
       "      <th>train_score_rmse</th>\n",
       "      <th>test_score_r2</th>\n",
       "      <th>test_score_rmse</th>\n",
       "    </tr>\n",
       "  </thead>\n",
       "  <tbody>\n",
       "    <tr>\n",
       "      <th>ridge_cvec</th>\n",
       "      <td>0.2501</td>\n",
       "      <td>0.41</td>\n",
       "      <td>93064.9964</td>\n",
       "      <td>0.3324</td>\n",
       "      <td>103919.4555</td>\n",
       "    </tr>\n",
       "  </tbody>\n",
       "</table>\n",
       "</div>"
      ],
      "text/plain": [
       "            best_score  train_score_r2  train_score_rmse  test_score_r2  \\\n",
       "ridge_cvec      0.2501            0.41        93064.9964         0.3324   \n",
       "\n",
       "            test_score_rmse  \n",
       "ridge_cvec      103919.4555  "
      ]
     },
     "metadata": {},
     "output_type": "display_data"
    }
   ],
   "source": [
    "print(\"Ridge Regression with CountVectorizer:\")\n",
    "ridge_cvec_scores.rename(index={0: \"ridge_cvec\"}, inplace=True)\n",
    "display(ridge_cvec_scores)"
   ]
  },
  {
   "cell_type": "markdown",
   "metadata": {},
   "source": [
    "### Ridge Regression with TfidfVectorizer"
   ]
  },
  {
   "cell_type": "code",
   "execution_count": 15,
   "metadata": {
    "collapsed": true
   },
   "outputs": [
    {
     "name": "stdout",
     "output_type": "stream",
     "text": [
      "Fitting 5 folds for each of 10 candidates, totalling 50 fits\n",
      "[Parallel(n_jobs=-1)]: Using backend LokyBackend with 8 concurrent workers.\n",
      "[Parallel(n_jobs=-1)]: Done   1 tasks      | elapsed:   19.7s\n",
      "[Parallel(n_jobs=-1)]: Done   2 tasks      | elapsed:   20.7s\n",
      "[Parallel(n_jobs=-1)]: Done   3 tasks      | elapsed:   20.8s\n",
      "[Parallel(n_jobs=-1)]: Done   4 tasks      | elapsed:   22.9s\n",
      "[Parallel(n_jobs=-1)]: Done   5 tasks      | elapsed:   23.1s\n",
      "[Parallel(n_jobs=-1)]: Done   6 tasks      | elapsed:   23.3s\n",
      "[Parallel(n_jobs=-1)]: Done   7 tasks      | elapsed:   24.0s\n",
      "[Parallel(n_jobs=-1)]: Done   8 tasks      | elapsed:   24.0s\n",
      "[Parallel(n_jobs=-1)]: Done   9 tasks      | elapsed:   39.4s\n",
      "[Parallel(n_jobs=-1)]: Done  10 tasks      | elapsed:   40.4s\n",
      "[Parallel(n_jobs=-1)]: Done  11 tasks      | elapsed:   44.0s\n",
      "[Parallel(n_jobs=-1)]: Done  12 tasks      | elapsed:   44.6s\n",
      "[Parallel(n_jobs=-1)]: Done  13 tasks      | elapsed:   46.1s\n",
      "[Parallel(n_jobs=-1)]: Done  14 tasks      | elapsed:   47.5s\n",
      "[Parallel(n_jobs=-1)]: Done  15 tasks      | elapsed:   47.6s\n",
      "[Parallel(n_jobs=-1)]: Done  16 tasks      | elapsed:   48.1s\n",
      "[Parallel(n_jobs=-1)]: Done  17 tasks      | elapsed:   58.6s\n",
      "[Parallel(n_jobs=-1)]: Done  18 tasks      | elapsed:   59.9s\n",
      "[Parallel(n_jobs=-1)]: Done  19 tasks      | elapsed:  1.1min\n",
      "[Parallel(n_jobs=-1)]: Done  20 tasks      | elapsed:  1.1min\n",
      "[Parallel(n_jobs=-1)]: Done  21 tasks      | elapsed:  1.3min\n",
      "[Parallel(n_jobs=-1)]: Done  22 tasks      | elapsed:  1.4min\n",
      "[Parallel(n_jobs=-1)]: Done  23 tasks      | elapsed:  1.4min\n",
      "[Parallel(n_jobs=-1)]: Done  24 tasks      | elapsed:  1.5min\n",
      "[Parallel(n_jobs=-1)]: Done  25 tasks      | elapsed:  1.5min\n",
      "[Parallel(n_jobs=-1)]: Done  26 tasks      | elapsed:  1.5min\n",
      "[Parallel(n_jobs=-1)]: Done  27 tasks      | elapsed:  1.6min\n",
      "[Parallel(n_jobs=-1)]: Done  28 tasks      | elapsed:  1.6min\n",
      "[Parallel(n_jobs=-1)]: Done  29 tasks      | elapsed:  1.7min\n",
      "[Parallel(n_jobs=-1)]: Done  30 tasks      | elapsed:  1.7min\n",
      "[Parallel(n_jobs=-1)]: Done  31 tasks      | elapsed:  2.0min\n",
      "[Parallel(n_jobs=-1)]: Done  32 tasks      | elapsed:  2.1min\n",
      "[Parallel(n_jobs=-1)]: Done  33 tasks      | elapsed:  2.1min\n",
      "[Parallel(n_jobs=-1)]: Done  34 tasks      | elapsed:  2.2min\n",
      "[Parallel(n_jobs=-1)]: Done  35 tasks      | elapsed:  2.2min\n",
      "[Parallel(n_jobs=-1)]: Done  37 out of  50 | elapsed:  2.3min remaining:   47.7s\n",
      "[Parallel(n_jobs=-1)]: Done  39 out of  50 | elapsed:  2.3min remaining:   39.1s\n",
      "[Parallel(n_jobs=-1)]: Done  41 out of  50 | elapsed:  2.9min remaining:   38.7s\n",
      "[Parallel(n_jobs=-1)]: Done  43 out of  50 | elapsed:  3.0min remaining:   29.6s\n",
      "[Parallel(n_jobs=-1)]: Done  45 out of  50 | elapsed:  3.1min remaining:   20.7s\n",
      "[Parallel(n_jobs=-1)]: Done  47 out of  50 | elapsed:  3.2min remaining:   12.1s\n",
      "[Parallel(n_jobs=-1)]: Done  50 out of  50 | elapsed:  3.5min finished\n"
     ]
    }
   ],
   "source": [
    "ridge_tvec_param_grid = {\n",
    "    \"ct__vec_title__stop_words\": [title_stopwords],\n",
    "    \"ct__vec_title__max_features\": [300, 500, 750],\n",
    "    \"ct__vec_title__ngram_range\": [(1,2),(2,2),(2,3)],\n",
    "    \"ct__vec_transcript__stop_words\": [transcript_stopwords],\n",
    "    \"ct__vec_transcript__max_features\": [300, 500, 750],\n",
    "    \"ct__vec_transcript__ngram_range\": [(1,2),(2,2),(2,3)],\n",
    "    \"ct__vec_transcript__max_df\": [0.9],\n",
    "    \"ridge__alpha\": np.logspace(0, 5, 200)\n",
    "}\n",
    "\n",
    "ridge_tvec_est, ridge_tvec_scores = run_model(vectorizer = \"tvec\",\n",
    "                                              algorithm = (\"ridge\", Ridge()),\n",
    "                                              param_grid = ridge_tvec_param_grid)"
   ]
  },
  {
   "cell_type": "code",
   "execution_count": 36,
   "metadata": {},
   "outputs": [
    {
     "name": "stdout",
     "output_type": "stream",
     "text": [
      "Ridge Regression with TfidfVectorizer:\n"
     ]
    },
    {
     "data": {
      "text/html": [
       "<div>\n",
       "<style scoped>\n",
       "    .dataframe tbody tr th:only-of-type {\n",
       "        vertical-align: middle;\n",
       "    }\n",
       "\n",
       "    .dataframe tbody tr th {\n",
       "        vertical-align: top;\n",
       "    }\n",
       "\n",
       "    .dataframe thead th {\n",
       "        text-align: right;\n",
       "    }\n",
       "</style>\n",
       "<table border=\"1\" class=\"dataframe\">\n",
       "  <thead>\n",
       "    <tr style=\"text-align: right;\">\n",
       "      <th></th>\n",
       "      <th>best_score</th>\n",
       "      <th>train_score_r2</th>\n",
       "      <th>train_score_rmse</th>\n",
       "      <th>test_score_r2</th>\n",
       "      <th>test_score_rmse</th>\n",
       "    </tr>\n",
       "  </thead>\n",
       "  <tbody>\n",
       "    <tr>\n",
       "      <th>ridge_tvec</th>\n",
       "      <td>0.2561</td>\n",
       "      <td>0.3919</td>\n",
       "      <td>94475.5027</td>\n",
       "      <td>0.3245</td>\n",
       "      <td>104535.3493</td>\n",
       "    </tr>\n",
       "  </tbody>\n",
       "</table>\n",
       "</div>"
      ],
      "text/plain": [
       "            best_score  train_score_r2  train_score_rmse  test_score_r2  \\\n",
       "ridge_tvec      0.2561          0.3919        94475.5027         0.3245   \n",
       "\n",
       "            test_score_rmse  \n",
       "ridge_tvec      104535.3493  "
      ]
     },
     "metadata": {},
     "output_type": "display_data"
    }
   ],
   "source": [
    "print(\"Ridge Regression with TfidfVectorizer:\")\n",
    "ridge_tvec_scores.rename(index={0: \"ridge_tvec\"}, inplace=True)\n",
    "display(ridge_tvec_scores)"
   ]
  },
  {
   "cell_type": "markdown",
   "metadata": {},
   "source": [
    "### Lasso Regression with CountVectorizer"
   ]
  },
  {
   "cell_type": "code",
   "execution_count": 25,
   "metadata": {
    "collapsed": true
   },
   "outputs": [
    {
     "name": "stdout",
     "output_type": "stream",
     "text": [
      "Fitting 5 folds for each of 10 candidates, totalling 50 fits\n",
      "[Parallel(n_jobs=-1)]: Using backend LokyBackend with 8 concurrent workers.\n",
      "[Parallel(n_jobs=-1)]: Done   1 tasks      | elapsed:  5.7min\n",
      "[Parallel(n_jobs=-1)]: Done   2 tasks      | elapsed:  8.3min\n",
      "[Parallel(n_jobs=-1)]: Done   3 tasks      | elapsed:  8.7min\n",
      "[Parallel(n_jobs=-1)]: Done   4 tasks      | elapsed: 13.8min\n",
      "[Parallel(n_jobs=-1)]: Done   5 tasks      | elapsed: 13.8min\n",
      "[Parallel(n_jobs=-1)]: Done   6 tasks      | elapsed: 15.0min\n",
      "[Parallel(n_jobs=-1)]: Done   7 tasks      | elapsed: 16.0min\n",
      "[Parallel(n_jobs=-1)]: Done   8 tasks      | elapsed: 16.8min\n",
      "[Parallel(n_jobs=-1)]: Done   9 tasks      | elapsed: 17.2min\n",
      "[Parallel(n_jobs=-1)]: Done  10 tasks      | elapsed: 18.2min\n",
      "[Parallel(n_jobs=-1)]: Done  11 tasks      | elapsed: 18.3min\n",
      "[Parallel(n_jobs=-1)]: Done  12 tasks      | elapsed: 19.0min\n",
      "[Parallel(n_jobs=-1)]: Done  13 tasks      | elapsed: 19.0min\n",
      "[Parallel(n_jobs=-1)]: Done  14 tasks      | elapsed: 24.9min\n",
      "[Parallel(n_jobs=-1)]: Done  15 tasks      | elapsed: 25.4min\n",
      "[Parallel(n_jobs=-1)]: Done  16 tasks      | elapsed: 26.2min\n",
      "[Parallel(n_jobs=-1)]: Done  17 tasks      | elapsed: 27.1min\n",
      "[Parallel(n_jobs=-1)]: Done  18 tasks      | elapsed: 29.3min\n",
      "[Parallel(n_jobs=-1)]: Done  19 tasks      | elapsed: 29.5min\n",
      "[Parallel(n_jobs=-1)]: Done  20 tasks      | elapsed: 32.7min\n",
      "[Parallel(n_jobs=-1)]: Done  21 tasks      | elapsed: 33.0min\n",
      "[Parallel(n_jobs=-1)]: Done  22 tasks      | elapsed: 33.5min\n",
      "[Parallel(n_jobs=-1)]: Done  23 tasks      | elapsed: 33.8min\n",
      "[Parallel(n_jobs=-1)]: Done  24 tasks      | elapsed: 34.1min\n",
      "[Parallel(n_jobs=-1)]: Done  25 tasks      | elapsed: 35.1min\n",
      "[Parallel(n_jobs=-1)]: Done  26 tasks      | elapsed: 37.4min\n",
      "[Parallel(n_jobs=-1)]: Done  27 tasks      | elapsed: 38.2min\n",
      "[Parallel(n_jobs=-1)]: Done  28 tasks      | elapsed: 42.4min\n",
      "[Parallel(n_jobs=-1)]: Done  29 tasks      | elapsed: 43.3min\n",
      "[Parallel(n_jobs=-1)]: Done  30 tasks      | elapsed: 44.6min\n",
      "[Parallel(n_jobs=-1)]: Done  31 tasks      | elapsed: 47.0min\n",
      "[Parallel(n_jobs=-1)]: Done  32 tasks      | elapsed: 52.5min\n",
      "[Parallel(n_jobs=-1)]: Done  33 tasks      | elapsed: 53.1min\n",
      "[Parallel(n_jobs=-1)]: Done  34 tasks      | elapsed: 54.0min\n",
      "[Parallel(n_jobs=-1)]: Done  35 tasks      | elapsed: 54.5min\n",
      "[Parallel(n_jobs=-1)]: Done  37 out of  50 | elapsed: 56.0min remaining: 19.7min\n",
      "[Parallel(n_jobs=-1)]: Done  39 out of  50 | elapsed: 57.5min remaining: 16.2min\n",
      "[Parallel(n_jobs=-1)]: Done  41 out of  50 | elapsed: 61.9min remaining: 13.6min\n",
      "[Parallel(n_jobs=-1)]: Done  43 out of  50 | elapsed: 62.9min remaining: 10.2min\n",
      "[Parallel(n_jobs=-1)]: Done  45 out of  50 | elapsed: 64.3min remaining:  7.1min\n",
      "[Parallel(n_jobs=-1)]: Done  47 out of  50 | elapsed: 65.7min remaining:  4.2min\n",
      "[Parallel(n_jobs=-1)]: Done  50 out of  50 | elapsed: 69.1min finished\n"
     ]
    }
   ],
   "source": [
    "lasso_cvec_param_grid = {\n",
    "    \"ct__vec_title__stop_words\": [title_stopwords],\n",
    "    \"ct__vec_title__max_features\": [300, 500, 750],\n",
    "    \"ct__vec_title__ngram_range\": [(1,2),(2,2),(2,3)],\n",
    "    \"ct__vec_transcript__stop_words\": [transcript_stopwords],\n",
    "    \"ct__vec_transcript__max_features\": [300, 500, 750],\n",
    "    \"ct__vec_transcript__ngram_range\": [(1,2),(2,2),(2,3)],\n",
    "    \"ct__vec_transcript__max_df\": [0.9],\n",
    "    \"lasso__alpha\": np.linspace(0.01, 1, 50),\n",
    "    \"lasso__max_iter\": [100000]\n",
    "}\n",
    "\n",
    "lasso_cvec_est, lasso_cvec_scores = run_model(vectorizer = \"cvec\",\n",
    "                                              algorithm = (\"lasso\", Lasso()),\n",
    "                                              param_grid = lasso_cvec_param_grid)"
   ]
  },
  {
   "cell_type": "code",
   "execution_count": 37,
   "metadata": {},
   "outputs": [
    {
     "name": "stdout",
     "output_type": "stream",
     "text": [
      "Lasso Regression with CountVectorizer:\n"
     ]
    },
    {
     "data": {
      "text/html": [
       "<div>\n",
       "<style scoped>\n",
       "    .dataframe tbody tr th:only-of-type {\n",
       "        vertical-align: middle;\n",
       "    }\n",
       "\n",
       "    .dataframe tbody tr th {\n",
       "        vertical-align: top;\n",
       "    }\n",
       "\n",
       "    .dataframe thead th {\n",
       "        text-align: right;\n",
       "    }\n",
       "</style>\n",
       "<table border=\"1\" class=\"dataframe\">\n",
       "  <thead>\n",
       "    <tr style=\"text-align: right;\">\n",
       "      <th></th>\n",
       "      <th>best_score</th>\n",
       "      <th>train_score_r2</th>\n",
       "      <th>train_score_rmse</th>\n",
       "      <th>test_score_r2</th>\n",
       "      <th>test_score_rmse</th>\n",
       "    </tr>\n",
       "  </thead>\n",
       "  <tbody>\n",
       "    <tr>\n",
       "      <th>lasso_cvec</th>\n",
       "      <td>-0.0692</td>\n",
       "      <td>0.5574</td>\n",
       "      <td>80602.0086</td>\n",
       "      <td>0.2006</td>\n",
       "      <td>113713.2447</td>\n",
       "    </tr>\n",
       "  </tbody>\n",
       "</table>\n",
       "</div>"
      ],
      "text/plain": [
       "            best_score  train_score_r2  train_score_rmse  test_score_r2  \\\n",
       "lasso_cvec     -0.0692          0.5574        80602.0086         0.2006   \n",
       "\n",
       "            test_score_rmse  \n",
       "lasso_cvec      113713.2447  "
      ]
     },
     "metadata": {},
     "output_type": "display_data"
    }
   ],
   "source": [
    "print(\"Lasso Regression with CountVectorizer:\")\n",
    "lasso_cvec_scores.rename(index={0: \"lasso_cvec\"}, inplace=True)\n",
    "display(lasso_cvec_scores)"
   ]
  },
  {
   "cell_type": "markdown",
   "metadata": {},
   "source": [
    "### Lasso Regression with TfidfVectorizer"
   ]
  },
  {
   "cell_type": "code",
   "execution_count": 27,
   "metadata": {
    "collapsed": true
   },
   "outputs": [
    {
     "name": "stdout",
     "output_type": "stream",
     "text": [
      "Fitting 5 folds for each of 10 candidates, totalling 50 fits\n",
      "[Parallel(n_jobs=-1)]: Using backend LokyBackend with 8 concurrent workers.\n",
      "[Parallel(n_jobs=-1)]: Done   1 tasks      | elapsed:  2.6min\n",
      "[Parallel(n_jobs=-1)]: Done   2 tasks      | elapsed:  7.8min\n",
      "[Parallel(n_jobs=-1)]: Done   3 tasks      | elapsed:  8.4min\n",
      "[Parallel(n_jobs=-1)]: Done   4 tasks      | elapsed:  8.6min\n",
      "[Parallel(n_jobs=-1)]: Done   5 tasks      | elapsed:  9.3min\n",
      "[Parallel(n_jobs=-1)]: Done   6 tasks      | elapsed:  9.4min\n",
      "[Parallel(n_jobs=-1)]: Done   7 tasks      | elapsed: 10.1min\n",
      "[Parallel(n_jobs=-1)]: Done   8 tasks      | elapsed: 11.2min\n",
      "[Parallel(n_jobs=-1)]: Done   9 tasks      | elapsed: 11.2min\n",
      "[Parallel(n_jobs=-1)]: Done  10 tasks      | elapsed: 11.4min\n",
      "[Parallel(n_jobs=-1)]: Done  11 tasks      | elapsed: 12.6min\n",
      "[Parallel(n_jobs=-1)]: Done  12 tasks      | elapsed: 12.8min\n",
      "[Parallel(n_jobs=-1)]: Done  13 tasks      | elapsed: 15.5min\n",
      "[Parallel(n_jobs=-1)]: Done  14 tasks      | elapsed: 18.0min\n",
      "[Parallel(n_jobs=-1)]: Done  15 tasks      | elapsed: 18.2min\n",
      "[Parallel(n_jobs=-1)]: Done  16 tasks      | elapsed: 18.7min\n",
      "[Parallel(n_jobs=-1)]: Done  17 tasks      | elapsed: 20.7min\n",
      "[Parallel(n_jobs=-1)]: Done  18 tasks      | elapsed: 21.9min\n",
      "[Parallel(n_jobs=-1)]: Done  19 tasks      | elapsed: 26.5min\n",
      "[Parallel(n_jobs=-1)]: Done  20 tasks      | elapsed: 27.8min\n",
      "[Parallel(n_jobs=-1)]: Done  21 tasks      | elapsed: 28.9min\n",
      "[Parallel(n_jobs=-1)]: Done  22 tasks      | elapsed: 29.5min\n",
      "[Parallel(n_jobs=-1)]: Done  23 tasks      | elapsed: 30.3min\n",
      "[Parallel(n_jobs=-1)]: Done  24 tasks      | elapsed: 33.0min\n",
      "[Parallel(n_jobs=-1)]: Done  25 tasks      | elapsed: 33.5min\n",
      "[Parallel(n_jobs=-1)]: Done  26 tasks      | elapsed: 36.0min\n",
      "[Parallel(n_jobs=-1)]: Done  27 tasks      | elapsed: 36.4min\n",
      "[Parallel(n_jobs=-1)]: Done  28 tasks      | elapsed: 36.5min\n",
      "[Parallel(n_jobs=-1)]: Done  29 tasks      | elapsed: 38.5min\n",
      "[Parallel(n_jobs=-1)]: Done  30 tasks      | elapsed: 38.6min\n",
      "[Parallel(n_jobs=-1)]: Done  31 tasks      | elapsed: 39.9min\n",
      "[Parallel(n_jobs=-1)]: Done  32 tasks      | elapsed: 40.7min\n",
      "[Parallel(n_jobs=-1)]: Done  33 tasks      | elapsed: 45.5min\n",
      "[Parallel(n_jobs=-1)]: Done  34 tasks      | elapsed: 47.5min\n",
      "[Parallel(n_jobs=-1)]: Done  35 tasks      | elapsed: 48.0min\n",
      "[Parallel(n_jobs=-1)]: Done  37 out of  50 | elapsed: 49.2min remaining: 17.3min\n",
      "[Parallel(n_jobs=-1)]: Done  39 out of  50 | elapsed: 51.2min remaining: 14.4min\n",
      "[Parallel(n_jobs=-1)]: Done  41 out of  50 | elapsed: 52.7min remaining: 11.6min\n",
      "[Parallel(n_jobs=-1)]: Done  43 out of  50 | elapsed: 54.0min remaining:  8.8min\n",
      "[Parallel(n_jobs=-1)]: Done  45 out of  50 | elapsed: 55.0min remaining:  6.1min\n",
      "[Parallel(n_jobs=-1)]: Done  47 out of  50 | elapsed: 56.2min remaining:  3.6min\n",
      "[Parallel(n_jobs=-1)]: Done  50 out of  50 | elapsed: 71.0min finished\n"
     ]
    }
   ],
   "source": [
    "lasso_tvec_param_grid = {\n",
    "    \"ct__vec_title__stop_words\": [title_stopwords],\n",
    "    \"ct__vec_title__max_features\": [300, 500, 750],\n",
    "    \"ct__vec_title__ngram_range\": [(1,2),(2,2),(2,3)],\n",
    "    \"ct__vec_transcript__stop_words\": [transcript_stopwords],\n",
    "    \"ct__vec_transcript__max_features\": [300, 500, 750],\n",
    "    \"ct__vec_transcript__ngram_range\": [(1,2),(2,2),(2,3)],\n",
    "    \"ct__vec_transcript__max_df\": [0.9],\n",
    "    \"lasso__alpha\": np.linspace(0.01, 1, 50),\n",
    "    \"lasso__max_iter\": [100000]\n",
    "}\n",
    "\n",
    "lasso_tvec_est, lasso_tvec_scores = run_model(vectorizer = \"tvec\",\n",
    "                                              algorithm = (\"lasso\", Lasso()),\n",
    "                                              param_grid = lasso_tvec_param_grid)"
   ]
  },
  {
   "cell_type": "code",
   "execution_count": 38,
   "metadata": {},
   "outputs": [
    {
     "name": "stdout",
     "output_type": "stream",
     "text": [
      "Lasso Regression with TfidfVectorizer:\n"
     ]
    },
    {
     "data": {
      "text/html": [
       "<div>\n",
       "<style scoped>\n",
       "    .dataframe tbody tr th:only-of-type {\n",
       "        vertical-align: middle;\n",
       "    }\n",
       "\n",
       "    .dataframe tbody tr th {\n",
       "        vertical-align: top;\n",
       "    }\n",
       "\n",
       "    .dataframe thead th {\n",
       "        text-align: right;\n",
       "    }\n",
       "</style>\n",
       "<table border=\"1\" class=\"dataframe\">\n",
       "  <thead>\n",
       "    <tr style=\"text-align: right;\">\n",
       "      <th></th>\n",
       "      <th>best_score</th>\n",
       "      <th>train_score_r2</th>\n",
       "      <th>train_score_rmse</th>\n",
       "      <th>test_score_r2</th>\n",
       "      <th>test_score_rmse</th>\n",
       "    </tr>\n",
       "  </thead>\n",
       "  <tbody>\n",
       "    <tr>\n",
       "      <th>lasso_tvec</th>\n",
       "      <td>-0.2029</td>\n",
       "      <td>0.5968</td>\n",
       "      <td>76931.0618</td>\n",
       "      <td>0.1396</td>\n",
       "      <td>117975.598</td>\n",
       "    </tr>\n",
       "  </tbody>\n",
       "</table>\n",
       "</div>"
      ],
      "text/plain": [
       "            best_score  train_score_r2  train_score_rmse  test_score_r2  \\\n",
       "lasso_tvec     -0.2029          0.5968        76931.0618         0.1396   \n",
       "\n",
       "            test_score_rmse  \n",
       "lasso_tvec       117975.598  "
      ]
     },
     "metadata": {},
     "output_type": "display_data"
    }
   ],
   "source": [
    "print(\"Lasso Regression with TfidfVectorizer:\")\n",
    "lasso_tvec_scores.rename(index={0: \"lasso_tvec\"}, inplace=True)\n",
    "display(lasso_tvec_scores)"
   ]
  },
  {
   "cell_type": "markdown",
   "metadata": {},
   "source": [
    "### Random Forest with CountVectorizer"
   ]
  },
  {
   "cell_type": "code",
   "execution_count": 21,
   "metadata": {
    "collapsed": true
   },
   "outputs": [
    {
     "name": "stdout",
     "output_type": "stream",
     "text": [
      "Fitting 5 folds for each of 10 candidates, totalling 50 fits\n",
      "[Parallel(n_jobs=-1)]: Using backend LokyBackend with 8 concurrent workers.\n",
      "[Parallel(n_jobs=-1)]: Done   1 tasks      | elapsed:   37.5s\n",
      "[Parallel(n_jobs=-1)]: Done   2 tasks      | elapsed:   37.8s\n",
      "[Parallel(n_jobs=-1)]: Done   3 tasks      | elapsed:   37.9s\n",
      "[Parallel(n_jobs=-1)]: Done   4 tasks      | elapsed:  1.3min\n",
      "[Parallel(n_jobs=-1)]: Done   5 tasks      | elapsed:  1.3min\n",
      "[Parallel(n_jobs=-1)]: Done   6 tasks      | elapsed:  1.6min\n",
      "[Parallel(n_jobs=-1)]: Done   7 tasks      | elapsed:  1.6min\n",
      "[Parallel(n_jobs=-1)]: Done   8 tasks      | elapsed:  1.7min\n",
      "[Parallel(n_jobs=-1)]: Done   9 tasks      | elapsed:  1.7min\n",
      "[Parallel(n_jobs=-1)]: Done  10 tasks      | elapsed:  1.7min\n",
      "[Parallel(n_jobs=-1)]: Done  11 tasks      | elapsed:  2.7min\n",
      "[Parallel(n_jobs=-1)]: Done  12 tasks      | elapsed:  2.9min\n",
      "[Parallel(n_jobs=-1)]: Done  13 tasks      | elapsed:  3.0min\n",
      "[Parallel(n_jobs=-1)]: Done  14 tasks      | elapsed:  3.0min\n",
      "[Parallel(n_jobs=-1)]: Done  15 tasks      | elapsed:  3.3min\n",
      "[Parallel(n_jobs=-1)]: Done  16 tasks      | elapsed:  3.4min\n",
      "[Parallel(n_jobs=-1)]: Done  17 tasks      | elapsed:  3.7min\n",
      "[Parallel(n_jobs=-1)]: Done  18 tasks      | elapsed:  3.7min\n",
      "[Parallel(n_jobs=-1)]: Done  19 tasks      | elapsed:  4.0min\n",
      "[Parallel(n_jobs=-1)]: Done  20 tasks      | elapsed:  4.2min\n",
      "[Parallel(n_jobs=-1)]: Done  21 tasks      | elapsed:  5.2min\n",
      "[Parallel(n_jobs=-1)]: Done  22 tasks      | elapsed:  5.5min\n",
      "[Parallel(n_jobs=-1)]: Done  23 tasks      | elapsed:  5.7min\n",
      "[Parallel(n_jobs=-1)]: Done  24 tasks      | elapsed:  6.6min\n",
      "[Parallel(n_jobs=-1)]: Done  25 tasks      | elapsed:  6.9min\n",
      "[Parallel(n_jobs=-1)]: Done  26 tasks      | elapsed: 10.3min\n",
      "[Parallel(n_jobs=-1)]: Done  27 tasks      | elapsed: 11.1min\n",
      "[Parallel(n_jobs=-1)]: Done  28 tasks      | elapsed: 11.5min\n",
      "[Parallel(n_jobs=-1)]: Done  29 tasks      | elapsed: 11.6min\n",
      "[Parallel(n_jobs=-1)]: Done  30 tasks      | elapsed: 11.7min\n",
      "[Parallel(n_jobs=-1)]: Done  31 tasks      | elapsed: 11.9min\n",
      "[Parallel(n_jobs=-1)]: Done  32 tasks      | elapsed: 12.1min\n",
      "[Parallel(n_jobs=-1)]: Done  33 tasks      | elapsed: 12.2min\n",
      "[Parallel(n_jobs=-1)]: Done  34 tasks      | elapsed: 13.1min\n",
      "[Parallel(n_jobs=-1)]: Done  35 tasks      | elapsed: 14.0min\n",
      "[Parallel(n_jobs=-1)]: Done  37 out of  50 | elapsed: 14.9min remaining:  5.2min\n",
      "[Parallel(n_jobs=-1)]: Done  39 out of  50 | elapsed: 15.6min remaining:  4.4min\n",
      "[Parallel(n_jobs=-1)]: Done  41 out of  50 | elapsed: 19.4min remaining:  4.3min\n",
      "[Parallel(n_jobs=-1)]: Done  43 out of  50 | elapsed: 19.8min remaining:  3.2min\n",
      "[Parallel(n_jobs=-1)]: Done  45 out of  50 | elapsed: 23.2min remaining:  2.6min\n",
      "[Parallel(n_jobs=-1)]: Done  47 out of  50 | elapsed: 28.9min remaining:  1.8min\n",
      "[Parallel(n_jobs=-1)]: Done  50 out of  50 | elapsed: 29.0min finished\n"
     ]
    }
   ],
   "source": [
    "rf_cvec_param_grid = {\n",
    "    \"ct__vec_title__stop_words\": [title_stopwords],\n",
    "    \"ct__vec_title__max_features\": [300, 500, 750],\n",
    "    \"ct__vec_title__ngram_range\": [(1,2),(2,2),(2,3)],\n",
    "    \"ct__vec_transcript__stop_words\": [transcript_stopwords],\n",
    "    \"ct__vec_transcript__max_features\": [300, 500, 750],\n",
    "    \"ct__vec_transcript__ngram_range\": [(1,2),(2,2),(2,3)],\n",
    "    \"ct__vec_transcript__max_df\": [0.9],\n",
    "    \"rf__max_depth\": [None, 2, 5, 10, 20],\n",
    "    \"rf__n_estimators\": [100, 250, 500]\n",
    "}\n",
    "\n",
    "rf_cvec_est, rf_cvec_scores = run_model(vectorizer = \"cvec\",\n",
    "                                        algorithm = (\"rf\", RandomForestRegressor()),\n",
    "                                        param_grid = rf_cvec_param_grid)"
   ]
  },
  {
   "cell_type": "code",
   "execution_count": 39,
   "metadata": {},
   "outputs": [
    {
     "name": "stdout",
     "output_type": "stream",
     "text": [
      "Random Forest with CountVectorizer:\n"
     ]
    },
    {
     "data": {
      "text/html": [
       "<div>\n",
       "<style scoped>\n",
       "    .dataframe tbody tr th:only-of-type {\n",
       "        vertical-align: middle;\n",
       "    }\n",
       "\n",
       "    .dataframe tbody tr th {\n",
       "        vertical-align: top;\n",
       "    }\n",
       "\n",
       "    .dataframe thead th {\n",
       "        text-align: right;\n",
       "    }\n",
       "</style>\n",
       "<table border=\"1\" class=\"dataframe\">\n",
       "  <thead>\n",
       "    <tr style=\"text-align: right;\">\n",
       "      <th></th>\n",
       "      <th>best_score</th>\n",
       "      <th>train_score_r2</th>\n",
       "      <th>train_score_rmse</th>\n",
       "      <th>test_score_r2</th>\n",
       "      <th>test_score_rmse</th>\n",
       "    </tr>\n",
       "  </thead>\n",
       "  <tbody>\n",
       "    <tr>\n",
       "      <th>rf_cvec</th>\n",
       "      <td>0.422</td>\n",
       "      <td>0.9152</td>\n",
       "      <td>35272.1267</td>\n",
       "      <td>0.5042</td>\n",
       "      <td>89554.3432</td>\n",
       "    </tr>\n",
       "  </tbody>\n",
       "</table>\n",
       "</div>"
      ],
      "text/plain": [
       "         best_score  train_score_r2  train_score_rmse  test_score_r2  \\\n",
       "rf_cvec       0.422          0.9152        35272.1267         0.5042   \n",
       "\n",
       "         test_score_rmse  \n",
       "rf_cvec       89554.3432  "
      ]
     },
     "metadata": {},
     "output_type": "display_data"
    }
   ],
   "source": [
    "print(\"Random Forest with CountVectorizer:\")\n",
    "rf_cvec_scores.rename(index={0: \"rf_cvec\"}, inplace=True)\n",
    "display(rf_cvec_scores)"
   ]
  },
  {
   "cell_type": "markdown",
   "metadata": {},
   "source": [
    "### Random Forest with TfidfVectorizer"
   ]
  },
  {
   "cell_type": "code",
   "execution_count": 23,
   "metadata": {
    "collapsed": true
   },
   "outputs": [
    {
     "name": "stdout",
     "output_type": "stream",
     "text": [
      "Fitting 5 folds for each of 10 candidates, totalling 50 fits\n",
      "[Parallel(n_jobs=-1)]: Using backend LokyBackend with 8 concurrent workers.\n",
      "[Parallel(n_jobs=-1)]: Done   1 tasks      | elapsed:  2.2min\n",
      "[Parallel(n_jobs=-1)]: Done   2 tasks      | elapsed:  2.3min\n",
      "[Parallel(n_jobs=-1)]: Done   3 tasks      | elapsed:  2.3min\n",
      "[Parallel(n_jobs=-1)]: Done   4 tasks      | elapsed:  4.2min\n",
      "[Parallel(n_jobs=-1)]: Done   5 tasks      | elapsed:  4.3min\n",
      "[Parallel(n_jobs=-1)]: Done   6 tasks      | elapsed:  4.3min\n",
      "[Parallel(n_jobs=-1)]: Done   7 tasks      | elapsed:  4.4min\n",
      "[Parallel(n_jobs=-1)]: Done   8 tasks      | elapsed:  4.4min\n",
      "[Parallel(n_jobs=-1)]: Done   9 tasks      | elapsed:  4.4min\n",
      "[Parallel(n_jobs=-1)]: Done  10 tasks      | elapsed:  4.4min\n",
      "[Parallel(n_jobs=-1)]: Done  11 tasks      | elapsed:  5.5min\n",
      "[Parallel(n_jobs=-1)]: Done  12 tasks      | elapsed:  7.3min\n",
      "[Parallel(n_jobs=-1)]: Done  13 tasks      | elapsed:  7.3min\n",
      "[Parallel(n_jobs=-1)]: Done  14 tasks      | elapsed:  7.4min\n",
      "[Parallel(n_jobs=-1)]: Done  15 tasks      | elapsed:  7.5min\n",
      "[Parallel(n_jobs=-1)]: Done  16 tasks      | elapsed:  8.5min\n",
      "[Parallel(n_jobs=-1)]: Done  17 tasks      | elapsed:  8.6min\n",
      "[Parallel(n_jobs=-1)]: Done  18 tasks      | elapsed:  8.7min\n",
      "[Parallel(n_jobs=-1)]: Done  19 tasks      | elapsed:  9.8min\n",
      "[Parallel(n_jobs=-1)]: Done  20 tasks      | elapsed:  9.9min\n",
      "[Parallel(n_jobs=-1)]: Done  21 tasks      | elapsed: 10.4min\n",
      "[Parallel(n_jobs=-1)]: Done  22 tasks      | elapsed: 11.5min\n",
      "[Parallel(n_jobs=-1)]: Done  23 tasks      | elapsed: 11.6min\n",
      "[Parallel(n_jobs=-1)]: Done  24 tasks      | elapsed: 12.1min\n",
      "[Parallel(n_jobs=-1)]: Done  25 tasks      | elapsed: 13.2min\n",
      "[Parallel(n_jobs=-1)]: Done  26 tasks      | elapsed: 14.8min\n",
      "[Parallel(n_jobs=-1)]: Done  27 tasks      | elapsed: 15.0min\n",
      "[Parallel(n_jobs=-1)]: Done  28 tasks      | elapsed: 15.5min\n",
      "[Parallel(n_jobs=-1)]: Done  29 tasks      | elapsed: 15.5min\n",
      "[Parallel(n_jobs=-1)]: Done  30 tasks      | elapsed: 15.6min\n",
      "[Parallel(n_jobs=-1)]: Done  31 tasks      | elapsed: 16.0min\n",
      "[Parallel(n_jobs=-1)]: Done  32 tasks      | elapsed: 17.2min\n",
      "[Parallel(n_jobs=-1)]: Done  33 tasks      | elapsed: 17.3min\n",
      "[Parallel(n_jobs=-1)]: Done  34 tasks      | elapsed: 18.6min\n",
      "[Parallel(n_jobs=-1)]: Done  35 tasks      | elapsed: 18.7min\n",
      "[Parallel(n_jobs=-1)]: Done  37 out of  50 | elapsed: 20.0min remaining:  7.0min\n",
      "[Parallel(n_jobs=-1)]: Done  39 out of  50 | elapsed: 20.3min remaining:  5.7min\n",
      "[Parallel(n_jobs=-1)]: Done  41 out of  50 | elapsed: 23.5min remaining:  5.1min\n",
      "[Parallel(n_jobs=-1)]: Done  43 out of  50 | elapsed: 24.3min remaining:  4.0min\n",
      "[Parallel(n_jobs=-1)]: Done  45 out of  50 | elapsed: 24.6min remaining:  2.7min\n",
      "[Parallel(n_jobs=-1)]: Done  47 out of  50 | elapsed: 24.7min remaining:  1.6min\n",
      "[Parallel(n_jobs=-1)]: Done  50 out of  50 | elapsed: 25.5min finished\n"
     ]
    }
   ],
   "source": [
    "rf_tvec_param_grid = {\n",
    "    \"ct__vec_title__stop_words\": [title_stopwords],\n",
    "    \"ct__vec_title__max_features\": [300, 500, 750],\n",
    "    \"ct__vec_title__ngram_range\": [(1,2),(2,2),(2,3)],\n",
    "    \"ct__vec_transcript__stop_words\": [transcript_stopwords],\n",
    "    \"ct__vec_transcript__max_features\": [300, 500, 750],\n",
    "    \"ct__vec_transcript__ngram_range\": [(1,2),(2,2),(2,3)],\n",
    "    \"ct__vec_transcript__max_df\": [0.9],\n",
    "    \"rf__max_depth\": [None, 2, 5, 10, 20],\n",
    "    \"rf__n_estimators\": [100, 250, 500]\n",
    "}\n",
    "\n",
    "rf_tvec_est, rf_tvec_scores = run_model(vectorizer = \"tvec\",\n",
    "                                        algorithm = (\"rf\", RandomForestRegressor()),\n",
    "                                        param_grid = rf_tvec_param_grid)"
   ]
  },
  {
   "cell_type": "code",
   "execution_count": 40,
   "metadata": {},
   "outputs": [
    {
     "name": "stdout",
     "output_type": "stream",
     "text": [
      "Random Forest with TfidfVectorizer:\n"
     ]
    },
    {
     "data": {
      "text/html": [
       "<div>\n",
       "<style scoped>\n",
       "    .dataframe tbody tr th:only-of-type {\n",
       "        vertical-align: middle;\n",
       "    }\n",
       "\n",
       "    .dataframe tbody tr th {\n",
       "        vertical-align: top;\n",
       "    }\n",
       "\n",
       "    .dataframe thead th {\n",
       "        text-align: right;\n",
       "    }\n",
       "</style>\n",
       "<table border=\"1\" class=\"dataframe\">\n",
       "  <thead>\n",
       "    <tr style=\"text-align: right;\">\n",
       "      <th></th>\n",
       "      <th>best_score</th>\n",
       "      <th>train_score_r2</th>\n",
       "      <th>train_score_rmse</th>\n",
       "      <th>test_score_r2</th>\n",
       "      <th>test_score_rmse</th>\n",
       "    </tr>\n",
       "  </thead>\n",
       "  <tbody>\n",
       "    <tr>\n",
       "      <th>rf_tvec</th>\n",
       "      <td>0.4122</td>\n",
       "      <td>0.9187</td>\n",
       "      <td>34535.5658</td>\n",
       "      <td>0.4792</td>\n",
       "      <td>91788.2187</td>\n",
       "    </tr>\n",
       "  </tbody>\n",
       "</table>\n",
       "</div>"
      ],
      "text/plain": [
       "         best_score  train_score_r2  train_score_rmse  test_score_r2  \\\n",
       "rf_tvec      0.4122          0.9187        34535.5658         0.4792   \n",
       "\n",
       "         test_score_rmse  \n",
       "rf_tvec       91788.2187  "
      ]
     },
     "metadata": {},
     "output_type": "display_data"
    }
   ],
   "source": [
    "print(\"Random Forest with TfidfVectorizer:\")\n",
    "rf_tvec_scores.rename(index={0: \"rf_tvec\"}, inplace=True)\n",
    "display(rf_tvec_scores)"
   ]
  },
  {
   "cell_type": "markdown",
   "metadata": {},
   "source": [
    "### Results:"
   ]
  },
  {
   "cell_type": "code",
   "execution_count": 48,
   "metadata": {},
   "outputs": [],
   "source": [
    "scores_df = pd.concat([mlr_cvec_scores,\n",
    "                      mlr_tvec_scores,\n",
    "                      ridge_cvec_scores,\n",
    "                      ridge_tvec_scores,\n",
    "                      lasso_cvec_scores,\n",
    "                      lasso_tvec_scores,\n",
    "                      rf_cvec_scores,\n",
    "                      rf_tvec_scores], axis=0)"
   ]
  },
  {
   "cell_type": "code",
   "execution_count": 50,
   "metadata": {},
   "outputs": [
    {
     "name": "stdout",
     "output_type": "stream",
     "text": [
      "Baseline prediction: 76736.59 average monthly views\n",
      "Baseline score (RMSE): 122723.0166 average monthly views\n",
      "Baseline score (R2): -0.0\n"
     ]
    },
    {
     "data": {
      "text/html": [
       "<div>\n",
       "<style scoped>\n",
       "    .dataframe tbody tr th:only-of-type {\n",
       "        vertical-align: middle;\n",
       "    }\n",
       "\n",
       "    .dataframe tbody tr th {\n",
       "        vertical-align: top;\n",
       "    }\n",
       "\n",
       "    .dataframe thead th {\n",
       "        text-align: right;\n",
       "    }\n",
       "</style>\n",
       "<table border=\"1\" class=\"dataframe\">\n",
       "  <thead>\n",
       "    <tr style=\"text-align: right;\">\n",
       "      <th></th>\n",
       "      <th>best_score</th>\n",
       "      <th>train_score_r2</th>\n",
       "      <th>train_score_rmse</th>\n",
       "      <th>test_score_r2</th>\n",
       "      <th>test_score_rmse</th>\n",
       "    </tr>\n",
       "  </thead>\n",
       "  <tbody>\n",
       "    <tr>\n",
       "      <th>mlr_cvec</th>\n",
       "      <td>-1.5958</td>\n",
       "      <td>0.6885</td>\n",
       "      <td>67620.3163</td>\n",
       "      <td>-0.4772</td>\n",
       "      <td>154583.1807</td>\n",
       "    </tr>\n",
       "    <tr>\n",
       "      <th>mlr_tvec</th>\n",
       "      <td>-1.3865</td>\n",
       "      <td>0.7324</td>\n",
       "      <td>62672.1254</td>\n",
       "      <td>-0.4823</td>\n",
       "      <td>154848.8500</td>\n",
       "    </tr>\n",
       "    <tr>\n",
       "      <th>ridge_cvec</th>\n",
       "      <td>0.2501</td>\n",
       "      <td>0.4100</td>\n",
       "      <td>93064.9964</td>\n",
       "      <td>0.3324</td>\n",
       "      <td>103919.4555</td>\n",
       "    </tr>\n",
       "    <tr>\n",
       "      <th>ridge_tvec</th>\n",
       "      <td>0.2561</td>\n",
       "      <td>0.3919</td>\n",
       "      <td>94475.5027</td>\n",
       "      <td>0.3245</td>\n",
       "      <td>104535.3493</td>\n",
       "    </tr>\n",
       "    <tr>\n",
       "      <th>lasso_cvec</th>\n",
       "      <td>-0.0692</td>\n",
       "      <td>0.5574</td>\n",
       "      <td>80602.0086</td>\n",
       "      <td>0.2006</td>\n",
       "      <td>113713.2447</td>\n",
       "    </tr>\n",
       "    <tr>\n",
       "      <th>lasso_tvec</th>\n",
       "      <td>-0.2029</td>\n",
       "      <td>0.5968</td>\n",
       "      <td>76931.0618</td>\n",
       "      <td>0.1396</td>\n",
       "      <td>117975.5980</td>\n",
       "    </tr>\n",
       "    <tr>\n",
       "      <th>rf_cvec</th>\n",
       "      <td>0.4220</td>\n",
       "      <td>0.9152</td>\n",
       "      <td>35272.1267</td>\n",
       "      <td>0.5042</td>\n",
       "      <td>89554.3432</td>\n",
       "    </tr>\n",
       "    <tr>\n",
       "      <th>rf_tvec</th>\n",
       "      <td>0.4122</td>\n",
       "      <td>0.9187</td>\n",
       "      <td>34535.5658</td>\n",
       "      <td>0.4792</td>\n",
       "      <td>91788.2187</td>\n",
       "    </tr>\n",
       "  </tbody>\n",
       "</table>\n",
       "</div>"
      ],
      "text/plain": [
       "            best_score  train_score_r2  train_score_rmse  test_score_r2  \\\n",
       "mlr_cvec       -1.5958          0.6885        67620.3163        -0.4772   \n",
       "mlr_tvec       -1.3865          0.7324        62672.1254        -0.4823   \n",
       "ridge_cvec      0.2501          0.4100        93064.9964         0.3324   \n",
       "ridge_tvec      0.2561          0.3919        94475.5027         0.3245   \n",
       "lasso_cvec     -0.0692          0.5574        80602.0086         0.2006   \n",
       "lasso_tvec     -0.2029          0.5968        76931.0618         0.1396   \n",
       "rf_cvec         0.4220          0.9152        35272.1267         0.5042   \n",
       "rf_tvec         0.4122          0.9187        34535.5658         0.4792   \n",
       "\n",
       "            test_score_rmse  \n",
       "mlr_cvec        154583.1807  \n",
       "mlr_tvec        154848.8500  \n",
       "ridge_cvec      103919.4555  \n",
       "ridge_tvec      104535.3493  \n",
       "lasso_cvec      113713.2447  \n",
       "lasso_tvec      117975.5980  \n",
       "rf_cvec          89554.3432  \n",
       "rf_tvec          91788.2187  "
      ]
     },
     "metadata": {},
     "output_type": "display_data"
    }
   ],
   "source": [
    "print(f\"Baseline prediction: {round(baseline_preds,2)} average monthly views\")\n",
    "print(f\"Baseline score (RMSE): {round(baseline_rmse,4)} average monthly views\")\n",
    "print(f\"Baseline score (R2): {round(baseline_r2,4)}\")\n",
    "display(scores_df)"
   ]
  },
  {
   "cell_type": "markdown",
   "metadata": {},
   "source": [
    "We select **Ridge Regression with Count Vectorizer** for model deployment. The difference between the randomised search best score and training score is small. The r2 and rmse scores on training data also outperform the baseline score. While the random forest regressor and multi linear regression algorithms boast rather high r2 scores on training data, these models are also at risk of overfitting and may not be able to generalise well to unseen data. In addition, as compared to random forest regressors, regression models allow for more granuality when interpreting feature importance in our predictions."
   ]
  },
  {
   "cell_type": "markdown",
   "metadata": {},
   "source": [
    "## 6.4 Model Deployment"
   ]
  },
  {
   "cell_type": "code",
   "execution_count": 52,
   "metadata": {
    "collapsed": true
   },
   "outputs": [
    {
     "data": {
      "text/plain": [
       "Pipeline(memory=None,\n",
       "         steps=[('ct',\n",
       "                 ColumnTransformer(n_jobs=None, remainder='drop',\n",
       "                                   sparse_threshold=0.3,\n",
       "                                   transformer_weights=None,\n",
       "                                   transformers=[('vec_title',\n",
       "                                                  CountVectorizer(analyzer='word',\n",
       "                                                                  binary=False,\n",
       "                                                                  decode_error='strict',\n",
       "                                                                  dtype=<class 'numpy.int64'>,\n",
       "                                                                  encoding='utf-8',\n",
       "                                                                  input='content',\n",
       "                                                                  lowercase=True,\n",
       "                                                                  max_df=1.0,\n",
       "                                                                  max_features=750,\n",
       "                                                                  min_df=1,\n",
       "                                                                  ngram_range=(1,\n",
       "                                                                               2)...\n",
       "                                                   \"tag_Alzheimer's\",\n",
       "                                                   'tag_Antarctica',\n",
       "                                                   'tag_Anthropocene',\n",
       "                                                   'tag_Asia',\n",
       "                                                   'tag_Audacious Project',\n",
       "                                                   'tag_Autism spectrum '\n",
       "                                                   'disorder',\n",
       "                                                   'tag_Best of the Web',\n",
       "                                                   'tag_Brand', 'tag_Brazil',\n",
       "                                                   'tag_Buddhism', ...])],\n",
       "                                   verbose=False)),\n",
       "                ('ridge',\n",
       "                 Ridge(alpha=1464.9713983072863, copy_X=True,\n",
       "                       fit_intercept=True, max_iter=None, normalize=False,\n",
       "                       random_state=None, solver='auto', tol=0.001))],\n",
       "         verbose=False)"
      ]
     },
     "execution_count": 52,
     "metadata": {},
     "output_type": "execute_result"
    }
   ],
   "source": [
    "# fit model on train set\n",
    "ridge_cvec_est.fit(X_train, y_train)"
   ]
  },
  {
   "cell_type": "code",
   "execution_count": 53,
   "metadata": {},
   "outputs": [],
   "source": [
    "# make predictions on test set\n",
    "predictions = ridge_cvec_est.predict(X_test)"
   ]
  },
  {
   "cell_type": "code",
   "execution_count": 60,
   "metadata": {},
   "outputs": [
    {
     "name": "stdout",
     "output_type": "stream",
     "text": [
      "Test score (R2):  0.33241066309384704\n",
      "Test score (RMSE):  103919.45545237306\n"
     ]
    }
   ],
   "source": [
    "# score on test set\n",
    "r2 = ridge_cvec_est.score(X_test, y_test)\n",
    "print(\"Test score (R2): \" , r2)\n",
    "\n",
    "rmse = np.sqrt(mean_squared_error(y_test, predictions))\n",
    "print(\"Test score (RMSE): \", rmse)"
   ]
  },
  {
   "cell_type": "markdown",
   "metadata": {},
   "source": [
    "There is a slight drop in the r2 of the test set (0.3324) as compared to the r2 of the training data (0.4100). Nonetheless, the r2 and rmse scores of the test set outperform the baseline scores."
   ]
  },
  {
   "cell_type": "markdown",
   "metadata": {},
   "source": [
    "## 6.5 Statistical Inference"
   ]
  },
  {
   "cell_type": "code",
   "execution_count": 62,
   "metadata": {},
   "outputs": [
    {
     "data": {
      "text/plain": [
       "Ridge(alpha=1464.9713983072863, copy_X=True, fit_intercept=True, max_iter=None,\n",
       "      normalize=False, random_state=None, solver='auto', tol=0.001)"
      ]
     },
     "execution_count": 62,
     "metadata": {},
     "output_type": "execute_result"
    }
   ],
   "source": [
    "ridge_cvec_best_ridge = ridge_cvec_est.named_steps[\"ridge\"]\n",
    "ridge_cvec_best_ridge"
   ]
  },
  {
   "cell_type": "code",
   "execution_count": 66,
   "metadata": {},
   "outputs": [
    {
     "data": {
      "text/plain": [
       "ColumnTransformer(n_jobs=None, remainder='drop', sparse_threshold=0.3,\n",
       "                  transformer_weights=None,\n",
       "                  transformers=[('vec_title',\n",
       "                                 CountVectorizer(analyzer='word', binary=False,\n",
       "                                                 decode_error='strict',\n",
       "                                                 dtype=<class 'numpy.int64'>,\n",
       "                                                 encoding='utf-8',\n",
       "                                                 input='content',\n",
       "                                                 lowercase=True, max_df=1.0,\n",
       "                                                 max_features=750, min_df=1,\n",
       "                                                 ngram_range=(1, 2),\n",
       "                                                 preprocessor=None,\n",
       "                                                 stop_words=['co...\n",
       "                                  'num_related', 'title_len', 'description_len',\n",
       "                                  'transcript_len', 'published_day',\n",
       "                                  'published_month', 'published_year',\n",
       "                                  'tag_3D printing', 'tag_AI', 'tag_AIDS',\n",
       "                                  'tag_Africa', \"tag_Alzheimer's\",\n",
       "                                  'tag_Antarctica', 'tag_Anthropocene',\n",
       "                                  'tag_Asia', 'tag_Audacious Project',\n",
       "                                  'tag_Autism spectrum disorder',\n",
       "                                  'tag_Best of the Web', 'tag_Brand',\n",
       "                                  'tag_Brazil', 'tag_Buddhism', ...])],\n",
       "                  verbose=False)"
      ]
     },
     "execution_count": 66,
     "metadata": {},
     "output_type": "execute_result"
    }
   ],
   "source": [
    "ridge_cvec_best_cvec = ridge_cvec_est.named_steps[\"ct\"]\n",
    "ridge_cvec_best_cvec"
   ]
  },
  {
   "cell_type": "code",
   "execution_count": 68,
   "metadata": {},
   "outputs": [
    {
     "data": {
      "text/html": [
       "<div>\n",
       "<style scoped>\n",
       "    .dataframe tbody tr th:only-of-type {\n",
       "        vertical-align: middle;\n",
       "    }\n",
       "\n",
       "    .dataframe tbody tr th {\n",
       "        vertical-align: top;\n",
       "    }\n",
       "\n",
       "    .dataframe thead th {\n",
       "        text-align: right;\n",
       "    }\n",
       "</style>\n",
       "<table border=\"1\" class=\"dataframe\">\n",
       "  <thead>\n",
       "    <tr style=\"text-align: right;\">\n",
       "      <th></th>\n",
       "      <th>coef</th>\n",
       "    </tr>\n",
       "  </thead>\n",
       "  <tbody>\n",
       "    <tr>\n",
       "      <th>0</th>\n",
       "      <td>-81.194834</td>\n",
       "    </tr>\n",
       "    <tr>\n",
       "      <th>1</th>\n",
       "      <td>-278.911103</td>\n",
       "    </tr>\n",
       "    <tr>\n",
       "      <th>2</th>\n",
       "      <td>139.525104</td>\n",
       "    </tr>\n",
       "    <tr>\n",
       "      <th>3</th>\n",
       "      <td>525.916390</td>\n",
       "    </tr>\n",
       "    <tr>\n",
       "      <th>4</th>\n",
       "      <td>-93.875300</td>\n",
       "    </tr>\n",
       "  </tbody>\n",
       "</table>\n",
       "</div>"
      ],
      "text/plain": [
       "         coef\n",
       "0  -81.194834\n",
       "1 -278.911103\n",
       "2  139.525104\n",
       "3  525.916390\n",
       "4  -93.875300"
      ]
     },
     "execution_count": 68,
     "metadata": {},
     "output_type": "execute_result"
    }
   ],
   "source": [
    "ridge_cvec_coefs = pd.DataFrame(ridge_cvec_best_ridge.coef_)\n",
    "ridge_cvec_coefs.rename(columns={0: \"coef\"}, inplace=True)\n",
    "ridge_cvec_coefs.head()"
   ]
  },
  {
   "cell_type": "code",
   "execution_count": 70,
   "metadata": {},
   "outputs": [],
   "source": [
    "title_words = [ \"title_\" + w for w in \n",
    "               ridge_cvec_best_cvec.named_transformers_[\"vec_title\"].get_feature_names()]\n",
    "\n",
    "transcript_words = [\"transcript_\" + w for w in \n",
    "                    ridge_cvec_best_cvec.named_transformers_[\"vec_transcript\"].get_feature_names()]"
   ]
  },
  {
   "cell_type": "code",
   "execution_count": 71,
   "metadata": {},
   "outputs": [
    {
     "data": {
      "text/html": [
       "<div>\n",
       "<style scoped>\n",
       "    .dataframe tbody tr th:only-of-type {\n",
       "        vertical-align: middle;\n",
       "    }\n",
       "\n",
       "    .dataframe tbody tr th {\n",
       "        vertical-align: top;\n",
       "    }\n",
       "\n",
       "    .dataframe thead th {\n",
       "        text-align: right;\n",
       "    }\n",
       "</style>\n",
       "<table border=\"1\" class=\"dataframe\">\n",
       "  <thead>\n",
       "    <tr style=\"text-align: right;\">\n",
       "      <th></th>\n",
       "      <th>coef</th>\n",
       "      <th>features</th>\n",
       "    </tr>\n",
       "  </thead>\n",
       "  <tbody>\n",
       "    <tr>\n",
       "      <th>0</th>\n",
       "      <td>-81.194834</td>\n",
       "      <td>title_according</td>\n",
       "    </tr>\n",
       "    <tr>\n",
       "      <th>1</th>\n",
       "      <td>-278.911103</td>\n",
       "      <td>title_across</td>\n",
       "    </tr>\n",
       "    <tr>\n",
       "      <th>2</th>\n",
       "      <td>139.525104</td>\n",
       "      <td>title_act</td>\n",
       "    </tr>\n",
       "    <tr>\n",
       "      <th>3</th>\n",
       "      <td>525.916390</td>\n",
       "      <td>title_action</td>\n",
       "    </tr>\n",
       "    <tr>\n",
       "      <th>4</th>\n",
       "      <td>-93.875300</td>\n",
       "      <td>title_activist</td>\n",
       "    </tr>\n",
       "  </tbody>\n",
       "</table>\n",
       "</div>"
      ],
      "text/plain": [
       "         coef         features\n",
       "0  -81.194834  title_according\n",
       "1 -278.911103     title_across\n",
       "2  139.525104        title_act\n",
       "3  525.916390     title_action\n",
       "4  -93.875300   title_activist"
      ]
     },
     "execution_count": 71,
     "metadata": {},
     "output_type": "execute_result"
    }
   ],
   "source": [
    "ridge_cvec_features = (title_words + \n",
    "                       transcript_words + \n",
    "                       [c for c in X_train.columns if c != \"p_title\" and c != \"p_transcript\"])\n",
    "\n",
    "ridge_cvec_coefs[\"features\"] = ridge_cvec_features\n",
    "ridge_cvec_coefs.head()"
   ]
  },
  {
   "cell_type": "code",
   "execution_count": 73,
   "metadata": {},
   "outputs": [
    {
     "data": {
      "text/html": [
       "<div>\n",
       "<style scoped>\n",
       "    .dataframe tbody tr th:only-of-type {\n",
       "        vertical-align: middle;\n",
       "    }\n",
       "\n",
       "    .dataframe tbody tr th {\n",
       "        vertical-align: top;\n",
       "    }\n",
       "\n",
       "    .dataframe thead th {\n",
       "        text-align: right;\n",
       "    }\n",
       "</style>\n",
       "<table border=\"1\" class=\"dataframe\">\n",
       "  <thead>\n",
       "    <tr style=\"text-align: right;\">\n",
       "      <th></th>\n",
       "      <th>coef</th>\n",
       "      <th>features</th>\n",
       "      <th>coef_abs</th>\n",
       "    </tr>\n",
       "  </thead>\n",
       "  <tbody>\n",
       "    <tr>\n",
       "      <th>0</th>\n",
       "      <td>-81.194834</td>\n",
       "      <td>title_according</td>\n",
       "      <td>81.194834</td>\n",
       "    </tr>\n",
       "    <tr>\n",
       "      <th>1</th>\n",
       "      <td>-278.911103</td>\n",
       "      <td>title_across</td>\n",
       "      <td>278.911103</td>\n",
       "    </tr>\n",
       "    <tr>\n",
       "      <th>2</th>\n",
       "      <td>139.525104</td>\n",
       "      <td>title_act</td>\n",
       "      <td>139.525104</td>\n",
       "    </tr>\n",
       "    <tr>\n",
       "      <th>3</th>\n",
       "      <td>525.916390</td>\n",
       "      <td>title_action</td>\n",
       "      <td>525.916390</td>\n",
       "    </tr>\n",
       "    <tr>\n",
       "      <th>4</th>\n",
       "      <td>-93.875300</td>\n",
       "      <td>title_activist</td>\n",
       "      <td>93.875300</td>\n",
       "    </tr>\n",
       "  </tbody>\n",
       "</table>\n",
       "</div>"
      ],
      "text/plain": [
       "         coef         features    coef_abs\n",
       "0  -81.194834  title_according   81.194834\n",
       "1 -278.911103     title_across  278.911103\n",
       "2  139.525104        title_act  139.525104\n",
       "3  525.916390     title_action  525.916390\n",
       "4  -93.875300   title_activist   93.875300"
      ]
     },
     "execution_count": 73,
     "metadata": {},
     "output_type": "execute_result"
    }
   ],
   "source": [
    "ridge_cvec_coefs[\"coef_abs\"] = ridge_cvec_coefs[\"coef\"].abs()\n",
    "ridge_cvec_coefs.head()"
   ]
  },
  {
   "cell_type": "code",
   "execution_count": 77,
   "metadata": {},
   "outputs": [
    {
     "data": {
      "text/html": [
       "<div>\n",
       "<style scoped>\n",
       "    .dataframe tbody tr th:only-of-type {\n",
       "        vertical-align: middle;\n",
       "    }\n",
       "\n",
       "    .dataframe tbody tr th {\n",
       "        vertical-align: top;\n",
       "    }\n",
       "\n",
       "    .dataframe thead th {\n",
       "        text-align: right;\n",
       "    }\n",
       "</style>\n",
       "<table border=\"1\" class=\"dataframe\">\n",
       "  <thead>\n",
       "    <tr style=\"text-align: right;\">\n",
       "      <th></th>\n",
       "      <th>coef</th>\n",
       "      <th>features</th>\n",
       "      <th>coef_abs</th>\n",
       "    </tr>\n",
       "  </thead>\n",
       "  <tbody>\n",
       "    <tr>\n",
       "      <th>1065</th>\n",
       "      <td>21975.389710</td>\n",
       "      <td>published_year</td>\n",
       "      <td>21975.389710</td>\n",
       "    </tr>\n",
       "    <tr>\n",
       "      <th>1140</th>\n",
       "      <td>9971.935548</td>\n",
       "      <td>tag_animation</td>\n",
       "      <td>9971.935548</td>\n",
       "    </tr>\n",
       "    <tr>\n",
       "      <th>1206</th>\n",
       "      <td>9194.769420</td>\n",
       "      <td>tag_coronavirus</td>\n",
       "      <td>9194.769420</td>\n",
       "    </tr>\n",
       "    <tr>\n",
       "      <th>1056</th>\n",
       "      <td>8934.289480</td>\n",
       "      <td>has_citations</td>\n",
       "      <td>8934.289480</td>\n",
       "    </tr>\n",
       "    <tr>\n",
       "      <th>1448</th>\n",
       "      <td>7455.436648</td>\n",
       "      <td>tag_self</td>\n",
       "      <td>7455.436648</td>\n",
       "    </tr>\n",
       "    <tr>\n",
       "      <th>1121</th>\n",
       "      <td>6192.871321</td>\n",
       "      <td>tag_TED-Ed</td>\n",
       "      <td>6192.871321</td>\n",
       "    </tr>\n",
       "    <tr>\n",
       "      <th>1147</th>\n",
       "      <td>5947.504241</td>\n",
       "      <td>tag_arts</td>\n",
       "      <td>5947.504241</td>\n",
       "    </tr>\n",
       "    <tr>\n",
       "      <th>1051</th>\n",
       "      <td>-5736.231928</td>\n",
       "      <td>is_featured</td>\n",
       "      <td>5736.231928</td>\n",
       "    </tr>\n",
       "    <tr>\n",
       "      <th>1064</th>\n",
       "      <td>-4943.406715</td>\n",
       "      <td>published_month</td>\n",
       "      <td>4943.406715</td>\n",
       "    </tr>\n",
       "    <tr>\n",
       "      <th>1063</th>\n",
       "      <td>4654.462834</td>\n",
       "      <td>published_day</td>\n",
       "      <td>4654.462834</td>\n",
       "    </tr>\n",
       "    <tr>\n",
       "      <th>1050</th>\n",
       "      <td>4647.275203</td>\n",
       "      <td>num_comments</td>\n",
       "      <td>4647.275203</td>\n",
       "    </tr>\n",
       "    <tr>\n",
       "      <th>1332</th>\n",
       "      <td>4490.933829</td>\n",
       "      <td>tag_life</td>\n",
       "      <td>4490.933829</td>\n",
       "    </tr>\n",
       "    <tr>\n",
       "      <th>1351</th>\n",
       "      <td>4240.247436</td>\n",
       "      <td>tag_memory</td>\n",
       "      <td>4240.247436</td>\n",
       "    </tr>\n",
       "    <tr>\n",
       "      <th>1303</th>\n",
       "      <td>4055.242703</td>\n",
       "      <td>tag_human rights</td>\n",
       "      <td>4055.242703</td>\n",
       "    </tr>\n",
       "    <tr>\n",
       "      <th>1524</th>\n",
       "      <td>-4054.921118</td>\n",
       "      <td>action_None</td>\n",
       "      <td>4054.921118</td>\n",
       "    </tr>\n",
       "    <tr>\n",
       "      <th>1338</th>\n",
       "      <td>3947.255239</td>\n",
       "      <td>tag_manufacturing</td>\n",
       "      <td>3947.255239</td>\n",
       "    </tr>\n",
       "    <tr>\n",
       "      <th>1312</th>\n",
       "      <td>3872.901948</td>\n",
       "      <td>tag_indigenous peoples</td>\n",
       "      <td>3872.901948</td>\n",
       "    </tr>\n",
       "    <tr>\n",
       "      <th>1420</th>\n",
       "      <td>3828.967739</td>\n",
       "      <td>tag_presentation</td>\n",
       "      <td>3828.967739</td>\n",
       "    </tr>\n",
       "    <tr>\n",
       "      <th>1316</th>\n",
       "      <td>-3682.066494</td>\n",
       "      <td>tag_innovation</td>\n",
       "      <td>3682.066494</td>\n",
       "    </tr>\n",
       "    <tr>\n",
       "      <th>1506</th>\n",
       "      <td>3561.434732</td>\n",
       "      <td>tag_virus</td>\n",
       "      <td>3561.434732</td>\n",
       "    </tr>\n",
       "    <tr>\n",
       "      <th>1399</th>\n",
       "      <td>3425.366145</td>\n",
       "      <td>tag_personal growth</td>\n",
       "      <td>3425.366145</td>\n",
       "    </tr>\n",
       "    <tr>\n",
       "      <th>1166</th>\n",
       "      <td>-3411.297453</td>\n",
       "      <td>tag_biosphere</td>\n",
       "      <td>3411.297453</td>\n",
       "    </tr>\n",
       "    <tr>\n",
       "      <th>1184</th>\n",
       "      <td>-3386.161705</td>\n",
       "      <td>tag_children</td>\n",
       "      <td>3386.161705</td>\n",
       "    </tr>\n",
       "    <tr>\n",
       "      <th>1530</th>\n",
       "      <td>3341.992813</td>\n",
       "      <td>action_learn</td>\n",
       "      <td>3341.992813</td>\n",
       "    </tr>\n",
       "    <tr>\n",
       "      <th>1268</th>\n",
       "      <td>3329.176384</td>\n",
       "      <td>tag_food</td>\n",
       "      <td>3329.176384</td>\n",
       "    </tr>\n",
       "    <tr>\n",
       "      <th>1238</th>\n",
       "      <td>3315.930381</td>\n",
       "      <td>tag_education</td>\n",
       "      <td>3315.930381</td>\n",
       "    </tr>\n",
       "    <tr>\n",
       "      <th>1532</th>\n",
       "      <td>3302.929116</td>\n",
       "      <td>action_participate</td>\n",
       "      <td>3302.929116</td>\n",
       "    </tr>\n",
       "    <tr>\n",
       "      <th>1411</th>\n",
       "      <td>-3294.561491</td>\n",
       "      <td>tag_poetry</td>\n",
       "      <td>3294.561491</td>\n",
       "    </tr>\n",
       "    <tr>\n",
       "      <th>1368</th>\n",
       "      <td>3182.222190</td>\n",
       "      <td>tag_motivation</td>\n",
       "      <td>3182.222190</td>\n",
       "    </tr>\n",
       "    <tr>\n",
       "      <th>1456</th>\n",
       "      <td>3180.685957</td>\n",
       "      <td>tag_sleep</td>\n",
       "      <td>3180.685957</td>\n",
       "    </tr>\n",
       "  </tbody>\n",
       "</table>\n",
       "</div>"
      ],
      "text/plain": [
       "              coef                features      coef_abs\n",
       "1065  21975.389710          published_year  21975.389710\n",
       "1140   9971.935548           tag_animation   9971.935548\n",
       "1206   9194.769420         tag_coronavirus   9194.769420\n",
       "1056   8934.289480           has_citations   8934.289480\n",
       "1448   7455.436648                tag_self   7455.436648\n",
       "1121   6192.871321              tag_TED-Ed   6192.871321\n",
       "1147   5947.504241                tag_arts   5947.504241\n",
       "1051  -5736.231928             is_featured   5736.231928\n",
       "1064  -4943.406715         published_month   4943.406715\n",
       "1063   4654.462834           published_day   4654.462834\n",
       "1050   4647.275203            num_comments   4647.275203\n",
       "1332   4490.933829                tag_life   4490.933829\n",
       "1351   4240.247436              tag_memory   4240.247436\n",
       "1303   4055.242703        tag_human rights   4055.242703\n",
       "1524  -4054.921118             action_None   4054.921118\n",
       "1338   3947.255239       tag_manufacturing   3947.255239\n",
       "1312   3872.901948  tag_indigenous peoples   3872.901948\n",
       "1420   3828.967739        tag_presentation   3828.967739\n",
       "1316  -3682.066494          tag_innovation   3682.066494\n",
       "1506   3561.434732               tag_virus   3561.434732\n",
       "1399   3425.366145     tag_personal growth   3425.366145\n",
       "1166  -3411.297453           tag_biosphere   3411.297453\n",
       "1184  -3386.161705            tag_children   3386.161705\n",
       "1530   3341.992813            action_learn   3341.992813\n",
       "1268   3329.176384                tag_food   3329.176384\n",
       "1238   3315.930381           tag_education   3315.930381\n",
       "1532   3302.929116      action_participate   3302.929116\n",
       "1411  -3294.561491              tag_poetry   3294.561491\n",
       "1368   3182.222190          tag_motivation   3182.222190\n",
       "1456   3180.685957               tag_sleep   3180.685957"
      ]
     },
     "execution_count": 77,
     "metadata": {},
     "output_type": "execute_result"
    }
   ],
   "source": [
    "ridge_cvec_coefs.sort_values(\"coef_abs\", ascending=False).head(30)"
   ]
  },
  {
   "cell_type": "markdown",
   "metadata": {},
   "source": [
    "The predictor with the highest weight here is the published year as revealed during the EDA phase with videos published 2020 having the highest median average monthly viewership. This could perhaps be related to other features such as virus and coronavirus tags appearing as features with high weights and is unsurprising current virus pandemic. However, other talk features that contribute to high viewership are instances when the speaker has provided citations about their talks or if it is a featured talk. Beyond attributes of the talks, topics which garner high viewership human rights, innovation, education and sleep. In addition, where there are links for \"follow-up actions\" whereby the talk site includes resources for the community to participate in the cause or learn more about the topics often lead to higher viewership as well."
   ]
  },
  {
   "cell_type": "markdown",
   "metadata": {},
   "source": [
    "## 6.6 Recommendations and Conclusions "
   ]
  },
  {
   "cell_type": "markdown",
   "metadata": {},
   "source": [
    "The model is able to generalise well to unseen datat. Topics relating to human rights, innovation, education and sleep lead to higher viewership. In addition, where there are follow-up actions provided on the talk site, these tend to correspond to higher views as well.\n",
    "\n",
    "Beyond this project, we can consider incorporating speaker-related description to understand the impact of these features on view count as well as how much they affect viewership. As TED also uploads talks from its partner events for which it provides licenses to but leaves the organisation of events and invited speakers up to the independent organisations, we can also how these satellite-held events that TED uploads to its website will perform."
   ]
  }
 ],
 "metadata": {
  "kernelspec": {
   "display_name": "Python 3",
   "language": "python",
   "name": "python3"
  },
  "language_info": {
   "codemirror_mode": {
    "name": "ipython",
    "version": 3
   },
   "file_extension": ".py",
   "mimetype": "text/x-python",
   "name": "python",
   "nbconvert_exporter": "python",
   "pygments_lexer": "ipython3",
   "version": "3.7.6"
  }
 },
 "nbformat": 4,
 "nbformat_minor": 4
}
