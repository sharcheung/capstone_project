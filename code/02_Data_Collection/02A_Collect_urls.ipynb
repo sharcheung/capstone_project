{
 "cells": [
  {
   "cell_type": "markdown",
   "metadata": {},
   "source": [
    "The objective of this notebook is to gather the list of TED talks and their associated urls. The urls will be used to collect metadata of each talk in the next notebook - *02B_Collect_metadata*."
   ]
  },
  {
   "cell_type": "markdown",
   "metadata": {},
   "source": [
    "## Import libraries"
   ]
  },
  {
   "cell_type": "code",
   "execution_count": 1,
   "metadata": {},
   "outputs": [],
   "source": [
    "import pandas as pd\n",
    "import requests\n",
    "from bs4 import BeautifulSoup"
   ]
  },
  {
   "cell_type": "markdown",
   "metadata": {},
   "source": [
    "## 2A.1 Gather urls of talks"
   ]
  },
  {
   "cell_type": "markdown",
   "metadata": {},
   "source": [
    "The list of talks will be retrieved from the [TED Talks](\"https://www.ted.com/talks\") website, filtered for talks in **English**.\n",
    "\n",
    "Scrape date: 26/07/2020"
   ]
  },
  {
   "cell_type": "code",
   "execution_count": 2,
   "metadata": {},
   "outputs": [],
   "source": [
    "# instantiate empty list to save list of talks' titles and urls\n",
    "talks = []\n",
    "\n",
    "# there are 115 pages of videos\n",
    "for i in range(0, 115):\n",
    "    \n",
    "    # set url to make request from\n",
    "    url = 'https://www.ted.com/talks?language=en&page=' + str(i) + '&sort=newest'\n",
    "    \n",
    "    # make request\n",
    "    res = requests.get(url, headers = {'User-agent': 'S bot 1.0'})\n",
    "    \n",
    "    # halt request if status error\n",
    "    if res.status_code != 200:\n",
    "        print('Page ', i)\n",
    "        print('Status error: ', res.status_code)\n",
    "        break\n",
    "    \n",
    "    # create a BeautifulSoup object\n",
    "    soup = BeautifulSoup(res.content, 'lxml')\n",
    "    \n",
    "    # this element contains the talk title and url   \n",
    "    for e in soup.find_all('h4', {'class': 'f-w:700 h9 m5'}):\n",
    "        talk = {}\n",
    "        talk['title'] = e.find('a').text.strip()\n",
    "        talk['url'] = 'https://www.ted.com' + e.find('a')['href']\n",
    "        talks.append(talk)"
   ]
  },
  {
   "cell_type": "code",
   "execution_count": 3,
   "metadata": {},
   "outputs": [],
   "source": [
    "# convert list of titles and urls to a df\n",
    "talks_urls = pd.DataFrame(talks, columns=['title', 'url'])"
   ]
  },
  {
   "cell_type": "code",
   "execution_count": 4,
   "metadata": {},
   "outputs": [
    {
     "name": "stdout",
     "output_type": "stream",
     "text": [
      "title    0\n",
      "url      0\n",
      "dtype: int64\n"
     ]
    },
    {
     "data": {
      "text/plain": [
       "36"
      ]
     },
     "execution_count": 4,
     "metadata": {},
     "output_type": "execute_result"
    }
   ],
   "source": [
    "# check for nulls\n",
    "print(talks_urls.isnull().sum())\n",
    "\n",
    "# check for duplicates\n",
    "talks_urls.duplicated(keep='first').sum()"
   ]
  },
  {
   "cell_type": "code",
   "execution_count": 5,
   "metadata": {},
   "outputs": [],
   "source": [
    "# remove duplicated entries\n",
    "talks_urls.drop_duplicates(keep='first', inplace=True)"
   ]
  },
  {
   "cell_type": "code",
   "execution_count": 6,
   "metadata": {},
   "outputs": [
    {
     "data": {
      "text/plain": [
       "4104"
      ]
     },
     "execution_count": 6,
     "metadata": {},
     "output_type": "execute_result"
    }
   ],
   "source": [
    "# check number of entries\n",
    "talks_urls.shape[0]"
   ]
  },
  {
   "cell_type": "markdown",
   "metadata": {},
   "source": [
    "## Export urls as csv file"
   ]
  },
  {
   "cell_type": "code",
   "execution_count": 7,
   "metadata": {},
   "outputs": [],
   "source": [
    "talks_urls.to_csv('../../data/talks_urls.csv', index=False)"
   ]
  },
  {
   "cell_type": "code",
   "execution_count": null,
   "metadata": {},
   "outputs": [],
   "source": []
  }
 ],
 "metadata": {
  "kernelspec": {
   "display_name": "Python 3",
   "language": "python",
   "name": "python3"
  },
  "language_info": {
   "codemirror_mode": {
    "name": "ipython",
    "version": 3
   },
   "file_extension": ".py",
   "mimetype": "text/x-python",
   "name": "python",
   "nbconvert_exporter": "python",
   "pygments_lexer": "ipython3",
   "version": "3.7.6"
  }
 },
 "nbformat": 4,
 "nbformat_minor": 4
}
