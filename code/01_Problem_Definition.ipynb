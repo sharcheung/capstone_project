{
 "cells": [
  {
   "cell_type": "markdown",
   "metadata": {},
   "source": [
    "## 1. Defining the Problem"
   ]
  },
  {
   "cell_type": "markdown",
   "metadata": {},
   "source": [
    "TED is a nonprofit platform committed to spreading ideas. Apart from its annual TED conferences, it holds multiple satellite events and uploads talks from these events on its website - TED.com for free to the public. \n",
    "\n",
    "To widen its reach to the masses, TED will like to understand features which contribute to high viewership, viewership being a metric for reach. By understanding these features, such as topics or viewer habits, such as whether there are additional attributes tagged to the talk - more resources provided, follow-up actions, resources by spekears, will contribute to higher viewership. Arising from this, a predictor model will be developed to predict viewership and hence reach of future talks.   \n",
    "\n",
    "This is a regression task with application of multi-linear regression, ridge and lasso reression as well as random forest algorithm.\n",
    "\n",
    "A success metric for the problem will be the outperformance of the baseline r2 and root mean squared error."
   ]
  }
 ],
 "metadata": {
  "kernelspec": {
   "display_name": "Python 3",
   "language": "python",
   "name": "python3"
  },
  "language_info": {
   "codemirror_mode": {
    "name": "ipython",
    "version": 3
   },
   "file_extension": ".py",
   "mimetype": "text/x-python",
   "name": "python",
   "nbconvert_exporter": "python",
   "pygments_lexer": "ipython3",
   "version": "3.7.6"
  }
 },
 "nbformat": 4,
 "nbformat_minor": 4
}
